{
 "cells": [
  {
   "cell_type": "markdown",
   "metadata": {},
   "source": [
    "### Import the required packages"
   ]
  },
  {
   "cell_type": "code",
   "execution_count": 3,
   "metadata": {},
   "outputs": [],
   "source": [
    "import requests\n",
    "import sys\n",
    "import json\n",
    "import urllib2\n",
    "import urllib3\n",
    "import pandas as pd\n",
    "import matplotlib\n",
    "import matplotlib.pyplot as plt\n",
    "import seaborn as sns\n",
    "%matplotlib inline"
   ]
  },
  {
   "cell_type": "markdown",
   "metadata": {},
   "source": [
    "### Define required functions"
   ]
  },
  {
   "cell_type": "code",
   "execution_count": 4,
   "metadata": {
    "scrolled": false
   },
   "outputs": [],
   "source": [
    "def CheckResponse(r):\n",
    "    status=str(r.status_code)\n",
    "    if status == \"200\":\n",
    "        #print \"Finished\"\n",
    "        sys.stdout.flush()\n",
    "    elif status == \"201\":\n",
    "        sys.stdout.flush()\n",
    "    else:\n",
    "        print r, r.status_code\n",
    "        sys.stdout.flush()\n",
    "        \n",
    "def checkCytoscapeVersion(host=\"localhost\",port=1234):\n",
    "    URL=\"http://\"+str(host)+\":\"+str(port)+\"/v1/version/\"\n",
    "    r = requests.get(url = URL)\n",
    "    r=json.loads(r.content)\n",
    "    for k in r.keys():\n",
    "        print k, r[k]\n",
    "        \n",
    "def cytoscape(namespace,command=\"\",PARAMS={},host=\"localhost\",port=1234,method=\"POST\",verbose=False):\n",
    "    \"\"\"\n",
    "    General function for interacting with Cytoscape API.\n",
    "    \n",
    "    :param namespace: namespace where the request should be executed. eg. \"string\"\n",
    "    :param commnand: command to execute. eg. \"protein query\"\n",
    "    :param PARAM: a dictionary with the parameters. Check your swagger normaly running on\n",
    "    http://localhost:1234/v1/swaggerUI/swagger-ui/index.html?url=http://localhost:1234/v1/commands/swagger.json\n",
    "    :param method: type of http call, ie. \"POST\" or \"GET\" or \"HELP\".\n",
    "    \n",
    "    :returns: For \"POST\" the data in the content's response. For \"GET\" None. \n",
    "    \n",
    "    eg.\n",
    "\n",
    "    cytoscape(\"G\",\"string\",\"pubmed query\",{\"pubmed\":\"p53 p21\",\"limit\":\"50\"})\n",
    "\n",
    "\n",
    "    \"\"\"     \n",
    "\n",
    "    if (method == \"GET\") or (method == \"G\"):\n",
    "        P=[]\n",
    "        for p in PARAMS.keys():\n",
    "            v=str(PARAMS[p])\n",
    "            v=v.replace(\" \",\"%20\")  \n",
    "            P.append(str(p)+\"=\"+str(PARAMS[p]))\n",
    "        P=\"&\".join(P)\n",
    "        URL=\"http://\"+str(host)+\":\"+str(port)+\"/v1/commands/\"+str(namespace)+\"/\"+str(command)+\"?\"+P\n",
    "        if verbose:\n",
    "            print \"'\"+URL+\"'\"\n",
    "            sys.stdout.flush()\n",
    "        r = requests.get(url = URL)\n",
    "        CheckResponse(r)\n",
    "        res=None\n",
    "    \n",
    "    elif (method == \"POST\") or (method == \"P\"):\n",
    "        URL=\"http://\"+str(host)+\":\"+str(port)+\"/v1/commands/\"+str(namespace)+\"/\"+str(command)\n",
    "        r = requests.post(url = URL, json = PARAMS)\n",
    "        CheckResponse(r)\n",
    "        res=r.content\n",
    "        if verbose:\n",
    "            print res\n",
    "        res=json.loads(res)\n",
    "        res=res[\"data\"]\n",
    "        \n",
    "    elif (method==\"HTML\") or (method == \"H\") or (method==\"HELP\"):\n",
    "        P=[]\n",
    "        for p in PARAMS.keys():\n",
    "            v=str(PARAMS[p])\n",
    "            v=v.replace(\" \",\"%20\")  \n",
    "            P.append(str(p)+\"=\"+str(PARAMS[p]))\n",
    "        P=\"&\".join(P)\n",
    "        URL=\"http://\"+str(host)+\":\"+str(port)+\"/v1/commands/\"+str(namespace)+\"/\"+str(command)+\"?\"+P\n",
    "        if verbose:\n",
    "            print \"'\"+URL+\"'\"\n",
    "            sys.stdout.flush()\n",
    "        response = urllib2.urlopen(URL)\n",
    "        #print response\n",
    "        res = response.read()\n",
    "        print res\n",
    "        sys.stdout.flush()\n",
    "    \n",
    "    return res\n",
    "\n",
    "def getTableColumns(table, columns, namespace = \"default\", network = \"current\", host=\"localhost\",port=1234,verbose=False):\n",
    "    if type(network) != int:\n",
    "        network=cytoscape(\"network\", \"get attribute\",\\\n",
    "                      {\"network\":network,\\\n",
    "                       \"namespace\":namespace,\\\n",
    "                       \"columnList\":\"SUID\"})\n",
    "        network=network[0][\"SUID\"]\n",
    "\n",
    "    \n",
    "    df=pd.DataFrame()\n",
    "    def target(column):\n",
    "        URL=\"http://\"+str(host)+\":\"+str(port)+\"/v1/networks/\"+str(network)+\"/tables/\"+namespace+table+\"/columns/\"+column  \n",
    "        if verbose:\n",
    "            print \"'\"+URL+\"'\"\n",
    "            sys.stdout.flush()\n",
    "        response = urllib2.urlopen(URL)\n",
    "        response = response.read()\n",
    "        colA=json.loads(response)\n",
    "\n",
    "        col=pd.DataFrame()    \n",
    "        colHeader=colA[\"name\"]\n",
    "        colValues=colA[\"values\"]\n",
    "        col[colHeader]=colValues\n",
    "        return col\n",
    "    \n",
    "    ncols=[\"name\"]\n",
    "    for c in columns:\n",
    "        ncols.append(c.replace(\" \",\"%20\") )\n",
    "    for c in ncols:\n",
    "        col=target(c)\n",
    "        df=pd.concat([df,col],axis=1)\n",
    "        \n",
    "    df.index=df[\"name\"].tolist()\n",
    "    df=df.drop([\"name\"],axis=1)\n",
    "    \n",
    "    return df\n",
    "\n",
    "def loadTableData(df, df_key='index',table=\"node\", \\\n",
    "                   table_key_column = \"name\",\n",
    "                   network=\"current\",\\\n",
    "                   namespace=\"default\",\\\n",
    "                   host=\"localhost\",port=1234,verbose=False):\n",
    "    \n",
    "    if type(network) != int:\n",
    "        networkID=cytoscape(\"network\", \"get attribute\",\\\n",
    "                      {\"network\":network,\\\n",
    "                       \"namespace\":namespace,\\\n",
    "                       \"columnList\":\"SUID\"})\n",
    "        networkname=cytoscape(\"network\", \"get attribute\",\\\n",
    "                      {\"network\":network,\\\n",
    "                       \"namespace\":namespace,\\\n",
    "                       \"columnList\":\"name\"})\n",
    "        \n",
    "        network=networkID[0][\"SUID\"]\n",
    "        networkname=networkname[0][\"name\"]\n",
    "        \n",
    "    tmp=df.copy()\n",
    "    if df_key!=\"index\":\n",
    "        tmp.index=tmp[df_key].tolist()\n",
    "        tmp=tmp.drop([df_key],axis=1)\n",
    "            \n",
    "    tablen=networkname+\" default node\"\n",
    "    \n",
    "    data=[]\n",
    "    \n",
    "    for c in tmp.columns.tolist():\n",
    "        tmpcol=tmp[[c]].dropna()\n",
    "        for r in tmpcol.index.tolist():\n",
    "            cell={}\n",
    "            cell[str(table_key_column)]=str(r) # {\"name\":\"p53\"}\n",
    "            val=tmpcol.loc[r,c]\n",
    "            cell[str(c)]=val\n",
    "            data.append(cell)\n",
    "    \n",
    "    \n",
    "    upload={\"key\":table_key_column,\"dataKey\":table_key_column,\\\n",
    "            \"data\":data}\n",
    "    \n",
    "    \n",
    "    URL=\"http://\"+str(host)+\":\"+str(port)+\"/v1/networks/\"+str(network)+\"/tables/\"+namespace+table  \n",
    "    if verbose:\n",
    "        print \"'\"+URL+\"'\"\n",
    "        sys.stdout.flush()\n",
    "    r = requests.put(url = URL, json = upload)\n",
    "    if verbose:\n",
    "        print r\n",
    "    CheckResponse(r)\n",
    "    res=r.content\n",
    "    return res\n",
    "\n",
    "def simple_defaults(defaults_dic):\n",
    "    defaults=[]\n",
    "    for d in defaults_dic.keys():\n",
    "        dic={}\n",
    "        dic[\"visualProperty\"]=d\n",
    "        dic[\"value\"]=defaults_dic[d]\n",
    "        defaults.append(dic)\n",
    "    return defaults\n",
    "    \n",
    "def update_style(title,defaults=None,mappings=None,host=\"localhost\",port=1234):\n",
    "    URL=\"http://\"+str(host)+\":\"+str(port)+\"/v1/styles/\"+str(title)\n",
    "    response = urllib2.urlopen(URL)    \n",
    "    response = response.read()\n",
    "    response = json.loads(response)\n",
    "    \n",
    "    olddefaults=response[\"defaults\"]\n",
    "    oldmappings=response[\"mappings\"]\n",
    "\n",
    "    if mappings:\n",
    "        mappings_visual_properties=[ m[\"visualProperty\"] for m in mappings ]\n",
    "        newmappings=[ m for m in oldmappings if m[\"visualProperty\"] not in mappings_visual_properties ]\n",
    "        for m in mappings:\n",
    "            newmappings.append(m)\n",
    "    else:\n",
    "        newmappings=oldmappings\n",
    "\n",
    "    if defaults:\n",
    "        defaults_visual_properties=[ m[\"visualProperty\"] for m in defaults ]\n",
    "        newdefaults=[ m for m in olddefaults if m[\"visualProperty\"] not in defaults_visual_properties ]\n",
    "        for m in defaults:\n",
    "            newdefaults.append(m)\n",
    "    else:\n",
    "        newdefaults=olddefaults\n",
    "        \n",
    "    r=requests.delete(URL)\n",
    "    CheckResponse(r)    \n",
    "\n",
    "    URL=\"http://\"+str(host)+\":\"+str(port)+\"/v1/styles\"\n",
    "    PARAMS={\"title\":title,\\\n",
    "           \"defaults\":newdefaults,\\\n",
    "           \"mappings\":newmappings}\n",
    "    r = requests.post(url = URL, json = PARAMS)\n",
    "    CheckResponse(r)\n",
    "    \n",
    "def create_styles(title,defaults=None,mappings=None,host=\"localhost\",port=1234):\n",
    "    try:\n",
    "        update_style(title,defaults=defaults,mappings=mappings,host=host,port=port)\n",
    "        print \"Existing style was updated.\"\n",
    "        sys.stdout.flush()\n",
    "    except:\n",
    "        print \"Creating new style.\"\n",
    "        sys.stdout.flush()\n",
    "        URL=\"http://\"+str(host)+\":\"+str(port)+\"/v1/styles\"\n",
    "        PARAMS={\"title\":title,\\\n",
    "               \"defaults\":defaults,\\\n",
    "               \"mappings\":mappings}\n",
    "        r = requests.post(url = URL, json = PARAMS)\n",
    "        CheckResponse(r)\n",
    "\n",
    "    \n",
    "def mapVisualProperty(visualProperty,mappingType,mappingColumn,\\\n",
    "                      lower=None,center=None,upper=None,\\\n",
    "                      discrete=None,\\\n",
    "                      network=\"current\",table=\"node\",\\\n",
    "                      namespace=\"default\",host=\"localhost\",\\\n",
    "                      port=1234):\n",
    "    if type(network) != int:\n",
    "        networkID=cytoscape(\"network\", \"get attribute\",\\\n",
    "                      {\"network\":network,\\\n",
    "                       \"namespace\":namespace,\\\n",
    "                       \"columnList\":\"SUID\"})\n",
    "        networkname=cytoscape(\"network\", \"get attribute\",\\\n",
    "                      {\"network\":network,\\\n",
    "                       \"namespace\":namespace,\\\n",
    "                       \"columnList\":\"name\"})\n",
    "        \n",
    "        network=networkID[0][\"SUID\"]\n",
    "        networkname=networkname[0][\"name\"]\n",
    "\n",
    "        URL=\"http://\"+str(host)+\":\"+str(port)+\"/v1/networks/\"+str(network)+\"/tables/\"+namespace+table+\"/columns/\"\n",
    "        response = urllib2.urlopen(URL)\n",
    "        response = response.read()\n",
    "        response = json.loads(response)\n",
    "\n",
    "    for r in response:\n",
    "        if r[\"name\"]==mappingColumn:\n",
    "            mappingColumnType=r[\"type\"]\n",
    "            break\n",
    "            \n",
    "    PARAMS={\"mappingType\" : mappingType,\\\n",
    "            \"mappingColumn\" : mappingColumn,\n",
    "            \"mappingColumnType\" : mappingColumnType,\n",
    "            \"visualProperty\" : visualProperty}\n",
    "    if mappingType == \"continuous\":\n",
    "        PARAMS[\"points\"]=[{\"value\" : lower[0],\\\n",
    "                           \"lesser\" : lower[1],\\\n",
    "                           \"equal\" : lower[1],\\\n",
    "                           \"greater\" : lower[1]},\\\n",
    "                          {\"value\" : center[0],\n",
    "                           \"lesser\" : center[1],\n",
    "                           \"equal\" : center[1],\n",
    "                           \"greater\" : center[1] },\\\n",
    "                          {\"value\" : upper[0],\\\n",
    "                           \"lesser\" : upper[1],\\\n",
    "                           \"equal\" : upper[1],\\\n",
    "                           \"greater\" : upper[1]}]\n",
    "        \n",
    "    if discrete:\n",
    "        PARAMS[\"map\"]=[]\n",
    "        for k,v in zip(discrete[0],discrete[1]):\n",
    "            PARAMS[\"map\"]=PARAMS[\"map\"].append({ \"key\":k,\"value\":v})\n",
    "\n",
    "    return PARAMS"
   ]
  },
  {
   "cell_type": "markdown",
   "metadata": {},
   "source": [
    "### Setup Cytoscape\n",
    "* Launch Cytoscape on your local machine. If you haven't already installed Cytoscape, then download the latest version from http://cytoscape.org.\n",
    "* Install the STRING app, if you haven't already: http://apps.cytoscape.org/apps/stringapp\n",
    "* Leave Cytoscape running in the background during the remainder of the tutorial.\n",
    "* Check cytoscape connection."
   ]
  },
  {
   "cell_type": "code",
   "execution_count": 5,
   "metadata": {},
   "outputs": [
    {
     "name": "stdout",
     "output_type": "stream",
     "text": [
      "cytoscapeVersion 3.6.0\n",
      "apiVersion v1\n"
     ]
    }
   ],
   "source": [
    "checkCytoscapeVersion()"
   ]
  },
  {
   "cell_type": "markdown",
   "metadata": {},
   "source": [
    "cleanse the palette before importing new networks and styles"
   ]
  },
  {
   "cell_type": "code",
   "execution_count": 6,
   "metadata": {},
   "outputs": [],
   "source": [
    "response=cytoscape(\"vizmap\", \"apply\",{\"styles\":\"default\"})"
   ]
  },
  {
   "cell_type": "markdown",
   "metadata": {},
   "source": [
    "################################################\n",
    "# Step 1: Getting Disease Networks\n",
    "################################################\n",
    "\n",
    "Use Cytoscape to query the STRING database for networks of genes associated with breast cancer and ovarian cancer.\n",
    "\n",
    "**If the STRING app is not installed, no error is reported, but your network  will be empty**\n",
    "\n",
    "### Query STRING database by disease to generate networks\n",
    "\n",
    "#### Breast cancer"
   ]
  },
  {
   "cell_type": "code",
   "execution_count": 7,
   "metadata": {},
   "outputs": [],
   "source": [
    "response=cytoscape(\"string\", \"disease query\",\\\n",
    "                  {\"disease\":\"breast cancer\",\\\n",
    "                   \"cutoff\":\"0.9\",\\\n",
    "                   \"species\":\"Homo sapiens\",\\\n",
    "                   \"limit\":\"150\"})"
   ]
  },
  {
   "cell_type": "markdown",
   "metadata": {},
   "source": [
    "Here we are using Cytoscape's command line syntax, converting it to a CyREST url, and then making a PUT request. \n",
    "\n",
    "#### Ovarian cancer"
   ]
  },
  {
   "cell_type": "code",
   "execution_count": 8,
   "metadata": {},
   "outputs": [],
   "source": [
    "response=cytoscape(\"string\", \"disease query\",\\\n",
    "                  {\"disease\":\"ovarian cancer\",\\\n",
    "                   \"cutoff\":\"0.9\",\\\n",
    "                   \"species\":\"Homo sapiens\",\\\n",
    "                   \"limit\":\"150\"})"
   ]
  },
  {
   "cell_type": "markdown",
   "metadata": {},
   "source": [
    "################################################\n",
    "# Step 2: Interacting with Cytoscape \n",
    "################################################\n",
    "\n",
    "Now that we've got a couple networks into Cytoscape, let's see what we can go with them from R...\n",
    "\n",
    "### Get list of networks "
   ]
  },
  {
   "cell_type": "code",
   "execution_count": 9,
   "metadata": {},
   "outputs": [
    {
     "name": "stdout",
     "output_type": "stream",
     "text": [
      "[52, 1146]\n"
     ]
    }
   ],
   "source": [
    "response=cytoscape(\"network\", \"list\")\n",
    "print response"
   ]
  },
  {
   "cell_type": "markdown",
   "metadata": {},
   "source": [
    "### Layout network"
   ]
  },
  {
   "cell_type": "code",
   "execution_count": 10,
   "metadata": {},
   "outputs": [],
   "source": [
    "response=cytoscape(\"layout\", \"circular\")"
   ]
  },
  {
   "cell_type": "markdown",
   "metadata": {},
   "source": [
    "#### List of layout algorithms available"
   ]
  },
  {
   "cell_type": "code",
   "execution_count": 11,
   "metadata": {},
   "outputs": [
    {
     "name": "stdout",
     "output_type": "stream",
     "text": [
      "'http://localhost:1234/v1/commands/layout/?'\n",
      "Available commands for 'layout':\n",
      "  apply preferred\n",
      "  attribute-circle\n",
      "  attributes-layout\n",
      "  circular\n",
      "  copycat\n",
      "  cose\n",
      "  degree-circle\n",
      "  force-directed\n",
      "  force-directed-cl\n",
      "  fruchterman-rheingold\n",
      "  genemania-force-directed\n",
      "  get preferred\n",
      "  grid\n",
      "  hierarchical\n",
      "  isom\n",
      "  kamada-kawai\n",
      "  set preferred\n",
      "  stacked-node-layout\n",
      "\n"
     ]
    }
   ],
   "source": [
    "response=cytoscape(\"layout\",method=\"HELP\",verbose=True)"
   ]
  },
  {
   "cell_type": "markdown",
   "metadata": {},
   "source": [
    "#### Layout with parameters!"
   ]
  },
  {
   "cell_type": "code",
   "execution_count": 12,
   "metadata": {},
   "outputs": [],
   "source": [
    "response=cytoscape(\"layout\", \"force-directed\",\\\n",
    "                  {\"defaultSpringCoefficient\":\".000004\",\\\n",
    "                   \"defaultSpringLength\":\"5\"})"
   ]
  },
  {
   "cell_type": "code",
   "execution_count": 13,
   "metadata": {},
   "outputs": [
    {
     "name": "stdout",
     "output_type": "stream",
     "text": [
      "<p style=\"color:blue;margin-top:0px;margin-bottom:5px;\">Available arguments for 'layout force-directed':</p>\n",
      "<p style=\"color:black;margin-left:10px;margin-top:0px;margin-bottom:5px;\">  defaultEdgeWeight</p>\n",
      "<p style=\"color:black;margin-left:10px;margin-top:0px;margin-bottom:5px;\">  defaultNodeMass</p>\n",
      "<p style=\"color:black;margin-left:10px;margin-top:0px;margin-bottom:5px;\">  defaultSpringCoefficient</p>\n",
      "<p style=\"color:black;margin-left:10px;margin-top:0px;margin-bottom:5px;\">  defaultSpringLength</p>\n",
      "<p style=\"color:black;margin-left:10px;margin-top:0px;margin-bottom:5px;\">  EdgeAttribute</p>\n",
      "<p style=\"color:black;margin-left:10px;margin-top:0px;margin-bottom:5px;\">  isDeterministic</p>\n",
      "<p style=\"color:black;margin-left:10px;margin-top:0px;margin-bottom:5px;\">  maxWeightCutoff</p>\n",
      "<p style=\"color:black;margin-left:10px;margin-top:0px;margin-bottom:5px;\">  minWeightCutoff</p>\n",
      "<p style=\"color:black;margin-left:10px;margin-top:0px;margin-bottom:5px;\">  network</p>\n",
      "<p style=\"color:black;margin-left:10px;margin-top:0px;margin-bottom:5px;\">  NodeAttribute</p>\n",
      "<p style=\"color:black;margin-left:10px;margin-top:0px;margin-bottom:5px;\">  nodeList</p>\n",
      "<p style=\"color:black;margin-left:10px;margin-top:0px;margin-bottom:5px;\">  numIterations</p>\n",
      "<p style=\"color:black;margin-left:10px;margin-top:0px;margin-bottom:5px;\">  singlePartition</p>\n",
      "<p style=\"color:black;margin-left:10px;margin-top:0px;margin-bottom:5px;\">  Type</p>\n",
      "\n"
     ]
    }
   ],
   "source": [
    "response=cytoscape(\"layout\",\"force-directed\",method=\"HELP\")"
   ]
  },
  {
   "cell_type": "markdown",
   "metadata": {},
   "source": [
    "These *command* calls will allow you to interrogate the layouts and parameters available in your active Cytoscape session. This includes any layouts added by apps you've installed!\n",
    "\n",
    "### Get table data from network\n",
    "Now, let's look at the tablular data associated with our STRING networks..."
   ]
  },
  {
   "cell_type": "code",
   "execution_count": 14,
   "metadata": {},
   "outputs": [
    {
     "name": "stdout",
     "output_type": "stream",
     "text": [
      "[u'SUID', u'shared name', u'name', u'selected', u'canonical name', u'display name', u'full name', u'database identifier', u'description', u'@id', u'namespace', u'node type', u'query term', u'sequence', u'species', u'STRING style', u'enhancedLabel Passthrough', u'canonical', u'compartment chloroplast', u'compartment cytoskeleton', u'compartment cytosol', u'compartment endoplasmic reticulum', u'compartment endosome', u'compartment extracellular', u'compartment golgi apparatus', u'compartment lysosome', u'compartment mitochondrion', u'compartment nucleus', u'compartment peroxisome', u'compartment plasma membrane', u'compartment vacuole', u'image', u'target development level', u'target family', u'tissue adrenal gland', u'tissue blood', u'tissue bone', u'tissue bone marrow', u'tissue eye', u'tissue gall bladder', u'tissue heart', u'tissue intestine', u'tissue kidney', u'tissue liver', u'tissue lung', u'tissue lymph node', u'tissue muscle', u'tissue nervous system', u'tissue pancreas', u'tissue saliva', u'tissue skin', u'tissue spleen', u'tissue stomach', u'tissue thyroid gland', u'tissue urine', u'disease score']\n"
     ]
    }
   ],
   "source": [
    "response=cytoscape(\"node\",\"list attributes\",\\\n",
    "                   {\"network\":\"current\",\\\n",
    "                   \"namespace\":\"default\"} )\n",
    "print response"
   ]
  },
  {
   "cell_type": "markdown",
   "metadata": {},
   "source": [
    "One of the great things about the STRING database is all the node and edge attriubtes they provide. Let's pull some of it into R to play with...\n",
    "\n",
    "#### Retrieve disease scores \n",
    "We can retrieve any set of columns from Cytoscape and store them as an R data frame."
   ]
  },
  {
   "cell_type": "code",
   "execution_count": 15,
   "metadata": {},
   "outputs": [
    {
     "data": {
      "text/html": [
       "<div>\n",
       "<style scoped>\n",
       "    .dataframe tbody tr th:only-of-type {\n",
       "        vertical-align: middle;\n",
       "    }\n",
       "\n",
       "    .dataframe tbody tr th {\n",
       "        vertical-align: top;\n",
       "    }\n",
       "\n",
       "    .dataframe thead th {\n",
       "        text-align: right;\n",
       "    }\n",
       "</style>\n",
       "<table border=\"1\" class=\"dataframe\">\n",
       "  <thead>\n",
       "    <tr style=\"text-align: right;\">\n",
       "      <th></th>\n",
       "      <th>disease score</th>\n",
       "    </tr>\n",
       "  </thead>\n",
       "  <tbody>\n",
       "    <tr>\n",
       "      <th>9606.ENSP00000350941</th>\n",
       "      <td>1.852458</td>\n",
       "    </tr>\n",
       "    <tr>\n",
       "      <th>9606.ENSP00000332049</th>\n",
       "      <td>1.747818</td>\n",
       "    </tr>\n",
       "    <tr>\n",
       "      <th>9606.ENSP00000398880</th>\n",
       "      <td>1.637925</td>\n",
       "    </tr>\n",
       "    <tr>\n",
       "      <th>9606.ENSP00000332602</th>\n",
       "      <td>1.708656</td>\n",
       "    </tr>\n",
       "    <tr>\n",
       "      <th>9606.ENSP00000265433</th>\n",
       "      <td>5.000000</td>\n",
       "    </tr>\n",
       "    <tr>\n",
       "      <th>9606.ENSP00000395498</th>\n",
       "      <td>1.891827</td>\n",
       "    </tr>\n",
       "    <tr>\n",
       "      <th>9606.ENSP00000324856</th>\n",
       "      <td>5.000000</td>\n",
       "    </tr>\n",
       "    <tr>\n",
       "      <th>9606.ENSP00000244050</th>\n",
       "      <td>2.025321</td>\n",
       "    </tr>\n",
       "    <tr>\n",
       "      <th>9606.ENSP00000358140</th>\n",
       "      <td>1.745645</td>\n",
       "    </tr>\n",
       "    <tr>\n",
       "      <th>9606.ENSP00000309595</th>\n",
       "      <td>1.790888</td>\n",
       "    </tr>\n",
       "    <tr>\n",
       "      <th>9606.ENSP00000231790</th>\n",
       "      <td>5.000000</td>\n",
       "    </tr>\n",
       "    <tr>\n",
       "      <th>9606.ENSP00000313391</th>\n",
       "      <td>1.668835</td>\n",
       "    </tr>\n",
       "    <tr>\n",
       "      <th>9606.ENSP00000234420</th>\n",
       "      <td>5.000000</td>\n",
       "    </tr>\n",
       "    <tr>\n",
       "      <th>9606.ENSP00000296130</th>\n",
       "      <td>1.784040</td>\n",
       "    </tr>\n",
       "    <tr>\n",
       "      <th>9606.ENSP00000263923</th>\n",
       "      <td>1.775989</td>\n",
       "    </tr>\n",
       "    <tr>\n",
       "      <th>9606.ENSP00000376889</th>\n",
       "      <td>1.641608</td>\n",
       "    </tr>\n",
       "    <tr>\n",
       "      <th>9606.ENSP00000013034</th>\n",
       "      <td>1.835841</td>\n",
       "    </tr>\n",
       "    <tr>\n",
       "      <th>9606.ENSP00000244741</th>\n",
       "      <td>1.737385</td>\n",
       "    </tr>\n",
       "    <tr>\n",
       "      <th>9606.ENSP00000377971</th>\n",
       "      <td>3.128174</td>\n",
       "    </tr>\n",
       "    <tr>\n",
       "      <th>9606.ENSP00000270202</th>\n",
       "      <td>5.000000</td>\n",
       "    </tr>\n",
       "    <tr>\n",
       "      <th>9606.ENSP00000261584</th>\n",
       "      <td>5.000000</td>\n",
       "    </tr>\n",
       "    <tr>\n",
       "      <th>9606.ENSP00000320485</th>\n",
       "      <td>2.878271</td>\n",
       "    </tr>\n",
       "    <tr>\n",
       "      <th>9606.ENSP00000308137</th>\n",
       "      <td>2.240989</td>\n",
       "    </tr>\n",
       "    <tr>\n",
       "      <th>9606.ENSP00000306512</th>\n",
       "      <td>1.871320</td>\n",
       "    </tr>\n",
       "    <tr>\n",
       "      <th>9606.ENSP00000263083</th>\n",
       "      <td>1.672107</td>\n",
       "    </tr>\n",
       "    <tr>\n",
       "      <th>9606.ENSP00000322421</th>\n",
       "      <td>1.628620</td>\n",
       "    </tr>\n",
       "    <tr>\n",
       "      <th>9606.ENSP00000367207</th>\n",
       "      <td>2.048084</td>\n",
       "    </tr>\n",
       "    <tr>\n",
       "      <th>9606.ENSP00000233146</th>\n",
       "      <td>5.000000</td>\n",
       "    </tr>\n",
       "    <tr>\n",
       "      <th>9606.ENSP00000261058</th>\n",
       "      <td>1.734617</td>\n",
       "    </tr>\n",
       "    <tr>\n",
       "      <th>9606.ENSP00000336701</th>\n",
       "      <td>5.000000</td>\n",
       "    </tr>\n",
       "    <tr>\n",
       "      <th>...</th>\n",
       "      <td>...</td>\n",
       "    </tr>\n",
       "    <tr>\n",
       "      <th>9606.ENSP00000329243</th>\n",
       "      <td>1.976676</td>\n",
       "    </tr>\n",
       "    <tr>\n",
       "      <th>9606.ENSP00000265335</th>\n",
       "      <td>5.000000</td>\n",
       "    </tr>\n",
       "    <tr>\n",
       "      <th>9606.ENSP00000384665</th>\n",
       "      <td>1.615485</td>\n",
       "    </tr>\n",
       "    <tr>\n",
       "      <th>9606.ENSP00000308541</th>\n",
       "      <td>1.744678</td>\n",
       "    </tr>\n",
       "    <tr>\n",
       "      <th>9606.ENSP00000265171</th>\n",
       "      <td>1.960641</td>\n",
       "    </tr>\n",
       "    <tr>\n",
       "      <th>9606.hsa-miR-200c-3p</th>\n",
       "      <td>1.679043</td>\n",
       "    </tr>\n",
       "    <tr>\n",
       "      <th>9606.ENSP00000261769</th>\n",
       "      <td>5.000000</td>\n",
       "    </tr>\n",
       "    <tr>\n",
       "      <th>9606.ENSP00000020945</th>\n",
       "      <td>1.972968</td>\n",
       "    </tr>\n",
       "    <tr>\n",
       "      <th>9606.ENSP00000311032</th>\n",
       "      <td>2.296278</td>\n",
       "    </tr>\n",
       "    <tr>\n",
       "      <th>9606.ENSP00000258873</th>\n",
       "      <td>2.336571</td>\n",
       "    </tr>\n",
       "    <tr>\n",
       "      <th>9606.ENSP00000417281</th>\n",
       "      <td>1.684987</td>\n",
       "    </tr>\n",
       "    <tr>\n",
       "      <th>9606.ENSP00000369497</th>\n",
       "      <td>5.000000</td>\n",
       "    </tr>\n",
       "    <tr>\n",
       "      <th>9606.ENSP00000466399</th>\n",
       "      <td>5.000000</td>\n",
       "    </tr>\n",
       "    <tr>\n",
       "      <th>9606.ENSP00000265724</th>\n",
       "      <td>1.929946</td>\n",
       "    </tr>\n",
       "    <tr>\n",
       "      <th>9606.ENSP00000466834</th>\n",
       "      <td>2.174357</td>\n",
       "    </tr>\n",
       "    <tr>\n",
       "      <th>9606.ENSP00000296871</th>\n",
       "      <td>1.656841</td>\n",
       "    </tr>\n",
       "    <tr>\n",
       "      <th>9606.ENSP00000265849</th>\n",
       "      <td>5.000000</td>\n",
       "    </tr>\n",
       "    <tr>\n",
       "      <th>9606.ENSP00000267101</th>\n",
       "      <td>1.783118</td>\n",
       "    </tr>\n",
       "    <tr>\n",
       "      <th>9606.ENSP00000268035</th>\n",
       "      <td>1.617814</td>\n",
       "    </tr>\n",
       "    <tr>\n",
       "      <th>9606.ENSP00000296511</th>\n",
       "      <td>1.878906</td>\n",
       "    </tr>\n",
       "    <tr>\n",
       "      <th>9606.ENSP00000375892</th>\n",
       "      <td>1.745328</td>\n",
       "    </tr>\n",
       "    <tr>\n",
       "      <th>9606.ENSP00000263025</th>\n",
       "      <td>1.732664</td>\n",
       "    </tr>\n",
       "    <tr>\n",
       "      <th>9606.ENSP00000372023</th>\n",
       "      <td>5.000000</td>\n",
       "    </tr>\n",
       "    <tr>\n",
       "      <th>9606.ENSP00000307508</th>\n",
       "      <td>1.849376</td>\n",
       "    </tr>\n",
       "    <tr>\n",
       "      <th>9606.ENSP00000352271</th>\n",
       "      <td>2.694420</td>\n",
       "    </tr>\n",
       "    <tr>\n",
       "      <th>9606.ENSP00000252137</th>\n",
       "      <td>2.959737</td>\n",
       "    </tr>\n",
       "    <tr>\n",
       "      <th>9606.ENSP00000256442</th>\n",
       "      <td>1.665144</td>\n",
       "    </tr>\n",
       "    <tr>\n",
       "      <th>9606.ENSP00000258743</th>\n",
       "      <td>1.901240</td>\n",
       "    </tr>\n",
       "    <tr>\n",
       "      <th>9606.ENSP00000260947</th>\n",
       "      <td>5.000000</td>\n",
       "    </tr>\n",
       "    <tr>\n",
       "      <th>9606.ENSP00000337733</th>\n",
       "      <td>1.716860</td>\n",
       "    </tr>\n",
       "  </tbody>\n",
       "</table>\n",
       "<p>150 rows × 1 columns</p>\n",
       "</div>"
      ],
      "text/plain": [
       "                      disease score\n",
       "9606.ENSP00000350941       1.852458\n",
       "9606.ENSP00000332049       1.747818\n",
       "9606.ENSP00000398880       1.637925\n",
       "9606.ENSP00000332602       1.708656\n",
       "9606.ENSP00000265433       5.000000\n",
       "9606.ENSP00000395498       1.891827\n",
       "9606.ENSP00000324856       5.000000\n",
       "9606.ENSP00000244050       2.025321\n",
       "9606.ENSP00000358140       1.745645\n",
       "9606.ENSP00000309595       1.790888\n",
       "9606.ENSP00000231790       5.000000\n",
       "9606.ENSP00000313391       1.668835\n",
       "9606.ENSP00000234420       5.000000\n",
       "9606.ENSP00000296130       1.784040\n",
       "9606.ENSP00000263923       1.775989\n",
       "9606.ENSP00000376889       1.641608\n",
       "9606.ENSP00000013034       1.835841\n",
       "9606.ENSP00000244741       1.737385\n",
       "9606.ENSP00000377971       3.128174\n",
       "9606.ENSP00000270202       5.000000\n",
       "9606.ENSP00000261584       5.000000\n",
       "9606.ENSP00000320485       2.878271\n",
       "9606.ENSP00000308137       2.240989\n",
       "9606.ENSP00000306512       1.871320\n",
       "9606.ENSP00000263083       1.672107\n",
       "9606.ENSP00000322421       1.628620\n",
       "9606.ENSP00000367207       2.048084\n",
       "9606.ENSP00000233146       5.000000\n",
       "9606.ENSP00000261058       1.734617\n",
       "9606.ENSP00000336701       5.000000\n",
       "...                             ...\n",
       "9606.ENSP00000329243       1.976676\n",
       "9606.ENSP00000265335       5.000000\n",
       "9606.ENSP00000384665       1.615485\n",
       "9606.ENSP00000308541       1.744678\n",
       "9606.ENSP00000265171       1.960641\n",
       "9606.hsa-miR-200c-3p       1.679043\n",
       "9606.ENSP00000261769       5.000000\n",
       "9606.ENSP00000020945       1.972968\n",
       "9606.ENSP00000311032       2.296278\n",
       "9606.ENSP00000258873       2.336571\n",
       "9606.ENSP00000417281       1.684987\n",
       "9606.ENSP00000369497       5.000000\n",
       "9606.ENSP00000466399       5.000000\n",
       "9606.ENSP00000265724       1.929946\n",
       "9606.ENSP00000466834       2.174357\n",
       "9606.ENSP00000296871       1.656841\n",
       "9606.ENSP00000265849       5.000000\n",
       "9606.ENSP00000267101       1.783118\n",
       "9606.ENSP00000268035       1.617814\n",
       "9606.ENSP00000296511       1.878906\n",
       "9606.ENSP00000375892       1.745328\n",
       "9606.ENSP00000263025       1.732664\n",
       "9606.ENSP00000372023       5.000000\n",
       "9606.ENSP00000307508       1.849376\n",
       "9606.ENSP00000352271       2.694420\n",
       "9606.ENSP00000252137       2.959737\n",
       "9606.ENSP00000256442       1.665144\n",
       "9606.ENSP00000258743       1.901240\n",
       "9606.ENSP00000260947       5.000000\n",
       "9606.ENSP00000337733       1.716860\n",
       "\n",
       "[150 rows x 1 columns]"
      ]
     },
     "execution_count": 15,
     "metadata": {},
     "output_type": "execute_result"
    }
   ],
   "source": [
    "disease_score_table=getTableColumns('node',['disease score'])\n",
    "disease_score_table\n",
    "\n"
   ]
  },
  {
   "cell_type": "markdown",
   "metadata": {},
   "source": [
    "#### Plot distribution and pick threshold\n",
    "Now you can use python like you normally would explore the data."
   ]
  },
  {
   "cell_type": "code",
   "execution_count": 16,
   "metadata": {},
   "outputs": [
    {
     "data": {
      "text/plain": [
       "Text(0,0.5,u'frequency')"
      ]
     },
     "execution_count": 16,
     "metadata": {},
     "output_type": "execute_result"
    },
    {
     "data": {
      "image/png": "[encoded data removed]",
      "text/plain": [
       "<matplotlib.figure.Figure at 0x10ab920d0>"
      ]
     },
     "metadata": {},
     "output_type": "display_data"
    }
   ],
   "source": [
    "sns.set_style(\"white\")\n",
    "sns.kdeplot( disease_score_table[\"disease score\"] )\n",
    "plt.xlabel(\"disease score\")\n",
    "plt.ylabel(\"frequency\")"
   ]
  },
  {
   "cell_type": "markdown",
   "metadata": {},
   "source": [
    "### Generate subnetworks\n",
    "In order to reflect your exploration back onto the network, let's generate subnetworks...\n",
    "\n",
    "...from top quartile of 'disease score'"
   ]
  },
  {
   "cell_type": "code",
   "execution_count": 17,
   "metadata": {},
   "outputs": [
    {
     "data": {
      "text/plain": [
       "[u'9606.ENSP00000265433',\n",
       " u'9606.ENSP00000324856',\n",
       " u'9606.ENSP00000231790',\n",
       " u'9606.ENSP00000234420',\n",
       " u'9606.ENSP00000377971',\n",
       " u'9606.ENSP00000270202',\n",
       " u'9606.ENSP00000261584',\n",
       " u'9606.ENSP00000320485',\n",
       " u'9606.ENSP00000233146',\n",
       " u'9606.ENSP00000336701',\n",
       " u'9606.ENSP00000249440',\n",
       " u'9606.ENSP00000307411',\n",
       " u'9606.ENSP00000269571',\n",
       " u'9606.ENSP00000259008',\n",
       " u'9606.ENSP00000225893',\n",
       " u'9606.ENSP00000370047',\n",
       " u'9606.ENSP00000355865',\n",
       " u'9606.ENSP00000344456',\n",
       " u'9606.ENSP00000381008',\n",
       " u'9606.ENSP00000418960',\n",
       " u'9606.ENSP00000352408',\n",
       " u'9606.ENSP00000355759',\n",
       " u'9606.ENSP00000330862',\n",
       " u'9606.ENSP00000256078',\n",
       " u'9606.ENSP00000333188',\n",
       " u'9606.ENSP00000263967',\n",
       " u'9606.ENSP00000297265',\n",
       " u'9606.ENSP00000295924',\n",
       " u'9606.ENSP00000269305',\n",
       " u'9606.ENSP00000361021',\n",
       " u'9606.ENSP00000265335',\n",
       " u'9606.ENSP00000261769',\n",
       " u'9606.ENSP00000369497',\n",
       " u'9606.ENSP00000466399',\n",
       " u'9606.ENSP00000265849',\n",
       " u'9606.ENSP00000372023',\n",
       " u'9606.ENSP00000252137',\n",
       " u'9606.ENSP00000260947']"
      ]
     },
     "execution_count": 17,
     "metadata": {},
     "output_type": "execute_result"
    }
   ],
   "source": [
    "top_quart=disease_score_table[[\"disease score\"]].quantile(0.75)[0]\n",
    "top_nodes=disease_score_table[disease_score_table[\"disease score\"]>top_quart].index.tolist()\n",
    "top_nodes"
   ]
  },
  {
   "cell_type": "code",
   "execution_count": 18,
   "metadata": {},
   "outputs": [],
   "source": [
    "values=\"name:\"+\",\".join(top_nodes)\n",
    "response=cytoscape(\"network\",\"create\",\n",
    "                   {\"source\":\"current\",\\\n",
    "                    \"excludeEdges\":\"false\",\\\n",
    "                    \"nodeList\":values})\n",
    "response=cytoscape(\"network\",\"rename\",\\\n",
    "                   {\"name\":'top disease quartile'})"
   ]
  },
  {
   "cell_type": "markdown",
   "metadata": {},
   "source": [
    "...of connected nodes only"
   ]
  },
  {
   "cell_type": "code",
   "execution_count": 19,
   "metadata": {},
   "outputs": [],
   "source": [
    "response=cytoscape(\"network\",\"create\",\n",
    "                   {\"source\":\"current\",\\\n",
    "                    \"edgeList\":\"all\",\\\n",
    "                    \"nodeList\":\"selected\"})"
   ]
  },
  {
   "cell_type": "markdown",
   "metadata": {},
   "source": [
    "...from first neighbors of top 3 genes, using the network connectivity together with the data to direct discovery."
   ]
  },
  {
   "cell_type": "code",
   "execution_count": 20,
   "metadata": {},
   "outputs": [],
   "source": [
    "response=cytoscape(\"network\",\"set current\",\n",
    "                   {\"network\":\"String Network - ovarian cancer\"})"
   ]
  },
  {
   "cell_type": "code",
   "execution_count": 21,
   "metadata": {},
   "outputs": [
    {
     "name": "stdout",
     "output_type": "stream",
     "text": [
      "[u'9606.ENSP00000269305', u'9606.ENSP00000233146', u'9606.ENSP00000336701']\n"
     ]
    }
   ],
   "source": [
    "top_nodes=disease_score_table.sort_values(by=[\"disease score\"],\\\n",
    "                                         ascending=False)\n",
    "top_nodes=top_nodes.index.tolist()[:3]\n",
    "print top_nodes"
   ]
  },
  {
   "cell_type": "code",
   "execution_count": 22,
   "metadata": {},
   "outputs": [],
   "source": [
    "response=cytoscape(\"network\",\"select\",\n",
    "                   {\"nodeList\":\"name:\"+\",\".join(top_nodes)})"
   ]
  },
  {
   "cell_type": "code",
   "execution_count": 23,
   "metadata": {},
   "outputs": [],
   "source": [
    "response=cytoscape(\"network\",\"select\",\n",
    "                   {\"firstNeighbors\":\"\",\\\n",
    "                    \"direction\":\"any\",\\\n",
    "                    \"network\":\"current\"})"
   ]
  },
  {
   "cell_type": "code",
   "execution_count": 24,
   "metadata": {},
   "outputs": [],
   "source": [
    "response=cytoscape(\"network\",\"create\",\n",
    "                   {\"source\":\"current\",\\\n",
    "                    \"nodeList\":\"selected\"})"
   ]
  },
  {
   "cell_type": "code",
   "execution_count": 25,
   "metadata": {},
   "outputs": [],
   "source": [
    "response=cytoscape(\"network\",\"rename\",\\\n",
    "                   {\"name\":'top disease neighbors'})"
   ]
  },
  {
   "cell_type": "markdown",
   "metadata": {},
   "source": [
    "...from diffusion algorithm starting with top 3 genes, using the network connectivity in a more subtle way than just first-degree neighbors."
   ]
  },
  {
   "cell_type": "code",
   "execution_count": 26,
   "metadata": {},
   "outputs": [
    {
     "name": "stdout",
     "output_type": "stream",
     "text": [
      "ok\n"
     ]
    }
   ],
   "source": [
    "print \"ok\""
   ]
  },
  {
   "cell_type": "code",
   "execution_count": 27,
   "metadata": {},
   "outputs": [],
   "source": [
    "response=cytoscape(\"network\",\"set current\",\n",
    "                   {\"network\":\"String Network - ovarian cancer\"})\n",
    "response=cytoscape(\"network\",\"select\",\n",
    "                   {\"nodeList\":\"name:\"+\",\".join(top_nodes)})\n",
    "response=cytoscape(\"diffusion\",\"diffuse\")\n",
    "response=cytoscape(\"network\",\"create\",\n",
    "                   {\"source\":\"current\",\\\n",
    "                    \"nodeList\":\"selected\"})\n",
    "response=cytoscape(\"layout\", \"force-directed\")\n",
    "response=cytoscape(\"network\",\"rename\",\\\n",
    "                   {\"name\":'top disease diffusion'})"
   ]
  },
  {
   "cell_type": "markdown",
   "metadata": {},
   "source": [
    "################################################\n",
    "# Step 3: Visualizing data on networks\n",
    "################################################\n",
    "\n",
    "### Load datasets\n",
    "Downloaded TCGA data from https://portal.gdc.cancer.gov/ and preprocessed as R objects. Also available via each TCGA publication, e.g.:\n",
    " \n",
    "* Breast: https://tcga-data.nci.nih.gov/docs/publications/brca_2012/\n",
    "* Ovarian: https://tcga-data.nci.nih.gov/docs/publications/ov_2011/"
   ]
  },
  {
   "cell_type": "code",
   "execution_count": 28,
   "metadata": {},
   "outputs": [],
   "source": [
    "brc_expr=pd.read_table(\"/Users/jboucas/cytoscape-automation-jorge/for-scripters/Python/brc.exp.tsv\")\n",
    "brc_mut=pd.read_table(\"/Users/jboucas/cytoscape-automation-jorge/for-scripters/Python/brc.mut.tsv\")"
   ]
  },
  {
   "cell_type": "markdown",
   "metadata": {},
   "source": [
    "### Breast Cancer Datset\n",
    "These datasets are similar to the data frames you normarlly encounter in R. For diversity, one using row.names to store corresponding gene names and the other uses the first column. Both are easy to import into Cytoscape."
   ]
  },
  {
   "cell_type": "code",
   "execution_count": 29,
   "metadata": {},
   "outputs": [
    {
     "data": {
      "text/html": [
       "<div>\n",
       "<style scoped>\n",
       "    .dataframe tbody tr th:only-of-type {\n",
       "        vertical-align: middle;\n",
       "    }\n",
       "\n",
       "    .dataframe tbody tr th {\n",
       "        vertical-align: top;\n",
       "    }\n",
       "\n",
       "    .dataframe thead th {\n",
       "        text-align: right;\n",
       "    }\n",
       "</style>\n",
       "<table border=\"1\" class=\"dataframe\">\n",
       "  <thead>\n",
       "    <tr style=\"text-align: right;\">\n",
       "      <th></th>\n",
       "      <th>expr.mean</th>\n",
       "    </tr>\n",
       "  </thead>\n",
       "  <tbody>\n",
       "    <tr>\n",
       "      <th>ELMO2</th>\n",
       "      <td>-0.000167</td>\n",
       "    </tr>\n",
       "    <tr>\n",
       "      <th>CREB3L1</th>\n",
       "      <td>-0.005408</td>\n",
       "    </tr>\n",
       "    <tr>\n",
       "      <th>RPS11</th>\n",
       "      <td>0.018381</td>\n",
       "    </tr>\n",
       "    <tr>\n",
       "      <th>PNMA1</th>\n",
       "      <td>-0.065037</td>\n",
       "    </tr>\n",
       "    <tr>\n",
       "      <th>MMP2</th>\n",
       "      <td>-0.074444</td>\n",
       "    </tr>\n",
       "  </tbody>\n",
       "</table>\n",
       "</div>"
      ],
      "text/plain": [
       "         expr.mean\n",
       "ELMO2    -0.000167\n",
       "CREB3L1  -0.005408\n",
       "RPS11     0.018381\n",
       "PNMA1    -0.065037\n",
       "MMP2     -0.074444"
      ]
     },
     "execution_count": 29,
     "metadata": {},
     "output_type": "execute_result"
    }
   ],
   "source": [
    "brc_expr.head()"
   ]
  },
  {
   "cell_type": "code",
   "execution_count": 30,
   "metadata": {},
   "outputs": [
    {
     "data": {
      "text/html": [
       "<div>\n",
       "<style scoped>\n",
       "    .dataframe tbody tr th:only-of-type {\n",
       "        vertical-align: middle;\n",
       "    }\n",
       "\n",
       "    .dataframe tbody tr th {\n",
       "        vertical-align: top;\n",
       "    }\n",
       "\n",
       "    .dataframe thead th {\n",
       "        text-align: right;\n",
       "    }\n",
       "</style>\n",
       "<table border=\"1\" class=\"dataframe\">\n",
       "  <thead>\n",
       "    <tr style=\"text-align: right;\">\n",
       "      <th></th>\n",
       "      <th>Hugo_Symbol</th>\n",
       "      <th>mut_count</th>\n",
       "      <th>missense_mut_count</th>\n",
       "    </tr>\n",
       "  </thead>\n",
       "  <tbody>\n",
       "    <tr>\n",
       "      <th>13</th>\n",
       "      <td>A1CF</td>\n",
       "      <td>2</td>\n",
       "      <td>2</td>\n",
       "    </tr>\n",
       "    <tr>\n",
       "      <th>14</th>\n",
       "      <td>A2BP1</td>\n",
       "      <td>3</td>\n",
       "      <td>3</td>\n",
       "    </tr>\n",
       "    <tr>\n",
       "      <th>15</th>\n",
       "      <td>A2M</td>\n",
       "      <td>3</td>\n",
       "      <td>2</td>\n",
       "    </tr>\n",
       "    <tr>\n",
       "      <th>16</th>\n",
       "      <td>A2ML1</td>\n",
       "      <td>4</td>\n",
       "      <td>4</td>\n",
       "    </tr>\n",
       "    <tr>\n",
       "      <th>17</th>\n",
       "      <td>A4GALT</td>\n",
       "      <td>1</td>\n",
       "      <td>0</td>\n",
       "    </tr>\n",
       "  </tbody>\n",
       "</table>\n",
       "</div>"
      ],
      "text/plain": [
       "   Hugo_Symbol  mut_count  missense_mut_count\n",
       "13        A1CF          2                   2\n",
       "14       A2BP1          3                   3\n",
       "15         A2M          3                   2\n",
       "16       A2ML1          4                   4\n",
       "17      A4GALT          1                   0"
      ]
     },
     "execution_count": 30,
     "metadata": {},
     "output_type": "execute_result"
    }
   ],
   "source": [
    "brc_mut.head()"
   ]
  },
  {
   "cell_type": "markdown",
   "metadata": {},
   "source": [
    "Let's return to the Breast Cancer network..."
   ]
  },
  {
   "cell_type": "code",
   "execution_count": 31,
   "metadata": {},
   "outputs": [],
   "source": [
    "response=cytoscape(\"network\",\"set current\",\n",
    "                   {\"network\":\"String Network - breast cancer\"})\n",
    "response=cytoscape(\"layout\", \"force-directed\",\\\n",
    "                   {\"defaultSpringCoefficient\":\".000004\",\\\n",
    "                   \"defaultSpringLength\":\"5\"})"
   ]
  },
  {
   "cell_type": "markdown",
   "metadata": {},
   "source": [
    "...and use the helper function from r2cytoscape called *loadTableData*\n"
   ]
  },
  {
   "cell_type": "code",
   "execution_count": 32,
   "metadata": {},
   "outputs": [
    {
     "name": "stdout",
     "output_type": "stream",
     "text": [
      "Help on function loadTableData in module __main__:\n",
      "\n",
      "loadTableData(df, df_key='index', table='node', table_key_column='name', network='current', namespace='default', host='localhost', port=1234, verbose=False)\n",
      "\n"
     ]
    }
   ],
   "source": [
    "help(loadTableData)"
   ]
  },
  {
   "cell_type": "code",
   "execution_count": 33,
   "metadata": {},
   "outputs": [],
   "source": [
    "response=loadTableData(brc_expr,table_key_column=\"display name\")\n",
    "response=loadTableData(brc_mut,df_key='Hugo_Symbol',table_key_column=\"display name\")"
   ]
  },
  {
   "cell_type": "markdown",
   "metadata": {},
   "source": [
    "#### Visual styles\n",
    "Let's create a new style to visualize our imported data\n",
    "...starting with the basics, we will specify a few defaults and obvious mappings in a custom style all our own."
   ]
  },
  {
   "cell_type": "code",
   "execution_count": 35,
   "metadata": {},
   "outputs": [
    {
     "name": "stdout",
     "output_type": "stream",
     "text": [
      "Creating new style.\n"
     ]
    }
   ],
   "source": [
    "defaults_dic={\"NODE_SHAPE\":\"ellipse\",\\\n",
    "               \"NODE_SIZE\":\"60\",\\\n",
    "               \"NODE_FILL_COLOR\":\"#AAAAAA\",\\\n",
    "               \"EDGE_TRANSPARENCY\":\"120\"}\n",
    "defaults_list=simple_defaults(defaults_dic)\n",
    "\n",
    "NODE_LABEL=mapVisualProperty(\"NODE_LABEL\",\"passthrough\",\"display name\")\n",
    "\n",
    "create_styles(\"dataStyle\",defaults_list,[NODE_LABEL])\n",
    "response=cytoscape(\"vizmap\", \"apply\", {\"styles\":\"dataStyle\"})"
   ]
  },
  {
   "cell_type": "markdown",
   "metadata": {},
   "source": [
    "Now let's update the style with a mapping for mean expression. The first step is to grab the column data from Cytoscape and pull out the min and max to define our data mapping range of values."
   ]
  },
  {
   "cell_type": "code",
   "execution_count": 36,
   "metadata": {},
   "outputs": [],
   "source": [
    "brc_expr_network = getTableColumns('node',['expr.mean'])"
   ]
  },
  {
   "cell_type": "code",
   "execution_count": 37,
   "metadata": {},
   "outputs": [
    {
     "name": "stdout",
     "output_type": "stream",
     "text": [
      "-0.980856718464 0.512930822669\n"
     ]
    }
   ],
   "source": [
    "min_brc_expr = min(brc_expr_network.dropna()['expr.mean'].tolist())\n",
    "max_brc_expr = max(brc_expr_network.dropna()['expr.mean'].tolist())\n",
    "print min_brc_expr, max_brc_expr"
   ]
  },
  {
   "cell_type": "markdown",
   "metadata": {},
   "source": [
    "Next, we use the RColorBrewer package to help us pick good colors to pair with our data values. "
   ]
  },
  {
   "cell_type": "code",
   "execution_count": null,
   "metadata": {},
   "outputs": [],
   "source": []
  },
  {
   "cell_type": "markdown",
   "metadata": {},
   "source": [
    "Finally, we use the handy *mapVisualProperty* function to construct the data object that CyREST needs to specify style mappings and then we'll send them off to Cytoscape with *updateStyleMappings*."
   ]
  },
  {
   "cell_type": "code",
   "execution_count": 38,
   "metadata": {},
   "outputs": [],
   "source": [
    "NODE_FILL_COLOR=mapVisualProperty('NODE_FILL_COLOR','continuous','expr.mean',\\\n",
    "                     lower=[min_brc_expr,'#67A9CF'],center=[0.0,'#F7F7F7'],upper=[max_brc_expr,'#EF8A62'])\n",
    "update_style(\"dataStyle\",mappings=[NODE_FILL_COLOR])\n",
    "response=cytoscape(\"vizmap\", \"apply\", {\"styles\":\"dataStyle\"})"
   ]
  },
  {
   "cell_type": "markdown",
   "metadata": {},
   "source": [
    "**Pro-tip: depending on your data, it may be better to balance your color range over negative and positive values bounded by the largest min or max data value, so that color intensity scales similarly in both directions.**"
   ]
  },
  {
   "cell_type": "markdown",
   "metadata": {},
   "source": [
    "#### Visualize mutation data\n",
    "OK, now let's update with a mapping for mutation. Here are all the same steps, but this time mapping mutation counts to *both* node border width and color. "
   ]
  },
  {
   "cell_type": "code",
   "execution_count": 39,
   "metadata": {},
   "outputs": [],
   "source": [
    "brc_mut_network = getTableColumns('node',['mut_count'])\n",
    "min_brc_mut = min(brc_mut_network.dropna()['mut_count'].tolist())\n",
    "max_brc_mut = max(brc_mut_network.dropna()['mut_count'].tolist())\n",
    "\n",
    "NODE_BORDER_PAINT=mapVisualProperty('NODE_BORDER_PAINT','continuous','mut_count',\\\n",
    "                     lower=[min_brc_mut,'#FEE0D2'],center=[20,'#FC9272'],upper=[max_brc_mut,'#DE2D26'])\n",
    "update_style(\"dataStyle\",mappings=[NODE_BORDER_PAINT])\n",
    "response=cytoscape(\"vizmap\", \"apply\", {\"styles\":\"dataStyle\"})\n",
    "\n",
    "NODE_BORDER_WIDTH=mapVisualProperty('NODE_BORDER_WIDTH','continuous','mut_count',\\\n",
    "                     lower=[min_brc_mut,2],center=[20,4],upper=[max_brc_mut,8])\n",
    "update_style(\"dataStyle\",mappings=[NODE_BORDER_WIDTH])\n",
    "response=cytoscape(\"vizmap\", \"apply\", {\"styles\":\"dataStyle\"})"
   ]
  },
  {
   "cell_type": "markdown",
   "metadata": {},
   "source": [
    "#### Subnetwork based on diffusion from heavily mutated nodes\n",
    "Now, let's pull in what we learned about subnetwork selection and apply it here..."
   ]
  },
  {
   "cell_type": "code",
   "execution_count": 40,
   "metadata": {},
   "outputs": [],
   "source": [
    "top_mut=brc_mut_network.dropna().sort_values(by=[\"mut_count\"],ascending=False)\n",
    "top_mut=top_mut.index.tolist()[:2]\n",
    "response=cytoscape(\"network\",\"select\",\n",
    "                   {\"nodeList\":\"name:\"+\",\".join(top_mut)})\n",
    "response=cytoscape(\"diffusion\",\"diffuse\")\n",
    "response=cytoscape(\"network\",\"create\",\n",
    "                   {\"source\":\"current\",\\\n",
    "                    \"nodeList\":\"selected\"})\n",
    "response=cytoscape(\"layout\", \"force-directed\")\n",
    "response=cytoscape(\"network\",\"rename\",\\\n",
    "                   {\"name\":'top mutated diffusion'})"
   ]
  },
  {
   "cell_type": "markdown",
   "metadata": {},
   "source": [
    "The top mutated genes are based on TCGA data and the diffusion algorithm is operating based on the network connectivity from STRING data, leading to a focused subnetwork view of critical Breast Cancer genes with mean patient expression data mapped to fill color. Now *that's* data integration!\n",
    "\n",
    "**Pro-tip: You can generate a legend for this in Cytoscape Style tab > Options > Create style...  This is no yet available as a command. Coming soon!**\n"
   ]
  },
  {
   "cell_type": "markdown",
   "metadata": {},
   "source": [
    "### Ovarian Cancer Datset\n",
    "But what about the other network and datasets? Do we have to repeat *all* of those steps again?  Actually, no!\n",
    "\n",
    "First, let's switch back over to the Ovarian Cancer network and load our data."
   ]
  },
  {
   "cell_type": "code",
   "execution_count": 41,
   "metadata": {},
   "outputs": [],
   "source": [
    "ovc_expr=pd.read_table(\"/Users/jboucas/cytoscape-automation-jorge/for-scripters/Python/ovc.expr.tsv\")\n",
    "ovc_mut=pd.read_table(\"/Users/jboucas/cytoscape-automation-jorge/for-scripters/Python/ovc.mut.tsv\")"
   ]
  },
  {
   "cell_type": "code",
   "execution_count": 42,
   "metadata": {},
   "outputs": [],
   "source": [
    "response=cytoscape(\"network\",\"set current\",\n",
    "                   {\"network\":\"String Network - ovarian cancer\"})\n",
    "response=loadTableData(ovc_expr,table_key_column=\"display name\")\n",
    "response=loadTableData(ovc_mut,df_key='Hugo_Symbol',table_key_column=\"display name\")"
   ]
  },
  {
   "cell_type": "markdown",
   "metadata": {},
   "source": [
    "**Because we used the same column names in our original data frames, now we can simply apply the *same* visual style created above!**"
   ]
  },
  {
   "cell_type": "code",
   "execution_count": 43,
   "metadata": {},
   "outputs": [],
   "source": [
    "response=cytoscape(\"vizmap\", \"apply\", {\"styles\":\"dataStyle\"})"
   ]
  },
  {
   "cell_type": "markdown",
   "metadata": {},
   "source": [
    "Reusing the same style for both breast and ovarian cancers, we can compare the relative expression and mutation counts across the two datasets. \n",
    "For example, notice in the case of ovarian cancer: **decreased** range of mean expression and **fewer** mega-mutated genes."
   ]
  },
  {
   "cell_type": "markdown",
   "metadata": {},
   "source": [
    "##########################################\n",
    "# Step 4: Saving, sharing and publishing\n",
    "##########################################\n",
    "\n",
    "### Saving a Cytoscape session file\n",
    "Session files save *everything*. As with most project software, we recommend saving often!"
   ]
  },
  {
   "cell_type": "code",
   "execution_count": 44,
   "metadata": {},
   "outputs": [],
   "source": [
    "response=cytoscape(\"session\", \"save as\" , \\\n",
    "                   {\"file\":\"/Users/jboucas/cytoscape\"})"
   ]
  },
  {
   "cell_type": "markdown",
   "metadata": {},
   "source": [
    "**Note: If you don't specify a complete path, the files will be save relative to your Cytoscape installation directory, e.g., /Applications/Cytoscape_v3.6.0/... or somewhere you don't have write permissions. So, it's probably better to specify one...**"
   ]
  },
  {
   "cell_type": "markdown",
   "metadata": {},
   "source": [
    "### Exporting high resolution image files\n",
    "You can export extremely high resolution images, including vector graphic formats."
   ]
  },
  {
   "cell_type": "code",
   "execution_count": 47,
   "metadata": {},
   "outputs": [],
   "source": [
    "response=cytoscape(\"network\",\"deselect\")\n",
    "response=cytoscape(\"view\",\"fit content\")\n",
    "response=cytoscape(\"view\", \"export\" , \\\n",
    "                   {\"options\":\"PDF\",\\\n",
    "                    \"OutputFile\":\"/Users/jboucas/cytoscape_image\"})"
   ]
  },
  {
   "cell_type": "markdown",
   "metadata": {},
   "source": [
    "### Exporting interactive web pages via cytoscape.js\n",
    "You can export the network model in multiple standard formats. And if you want to get really fancy, you can export the model and style in cytoscape.js formats and host interactive views of your network analysis and visualization results online!"
   ]
  },
  {
   "cell_type": "code",
   "execution_count": null,
   "metadata": {},
   "outputs": [],
   "source": [
    "response=cytoscape(\"network\", \"export\" , \\\n",
    "                   {\"options\":'CYJS',\\\n",
    "                    \"OutputFile\":\"/Users/jboucas/cytoscape_network\"})\n",
    "\n",
    "response=cytoscape(\"vizmap\", \"export\" , \\\n",
    "                   {\"options\":'json',\\\n",
    "                    \"OutputFile\":\"/Users/jboucas/cytoscape_style\"})"
   ]
  },
  {
   "cell_type": "markdown",
   "metadata": {},
   "source": [
    "More details in Cytoscape manual chapter on [Interactive Web Applications](http://manual.cytoscape.org/en/stable/Export_Your_Data.html#as-an-interactive-web-application-new-in-3-2-0)\n",
    "\n",
    "\n",
    "And in Cytoscape, you can File>Export as Web Page... to produce a folder of cytoscape.js files and html.\n",
    "\n",
    "\n",
    "### Additional network analysis and visualization options\n",
    "* Mapping edge attributes to edge thickness, color and/or transparency (e.g., score or experiments) \n",
    "    * EDGE_WIDTH, EDGE_COLOR, EDGE TRANSPARENCY\n",
    "* Edge bundling\n",
    "    * bundleEdges()\n",
    "* Directional edge animation\n",
    "    * applyStyle('Marquee')\n",
    "    * updateStyleDefaults(style.name,list('Edge Line Type'='Marquee_Dash'))\n",
    "* Visualize two or more datasets as split-fill or pie chart, or patient-specific data as radial Circos plot\n",
    "    * pending support for charts...\n",
    "* Merge two (or more) networks\n",
    "    * copyCytoscapeNetwork() or 'network clone'; then addGraphToGraph() (Union only)\n",
    "    * using igraph: intersection(g1,g2), union(), difference(); followed by toCytoscape() and send2cy()"
   ]
  },
  {
   "cell_type": "markdown",
   "metadata": {},
   "source": [
    "## swagger\n",
    "http://localhost:1234/v1/swaggerUI/swagger-ui/index.html?url=http://localhost:1234/v1/commands/swagger.json#/"
   ]
  },
  {
   "cell_type": "markdown",
   "metadata": {},
   "source": [
    "##########################################\n",
    "# Step 5: Wrapping up\n",
    "##########################################\n",
    "\n",
    "You should now know how to...\n",
    "\n",
    "* Connect to Cytoscape from R\n",
    "* Retrieve disease networks from STRING\n",
    "* Interact with Cytoscape via commands, CyREST, and r2cytoscape\n",
    "* Load various data types onto networks\n",
    "* Set visual style defaults and mappings\n",
    "* Perform selection and create subnetworks\n",
    "* Save, share and publish your networks\n",
    "* Find more information on Cytoscape automation\n",
    "\n",
    "#### Resources\n",
    "* Growing collection of [cytoscape automation resources](https://github.com/cytoscape/cytoscape-automation/), including **this** tutorial\n",
    "* Growing collection of [cytoscape tutorial materials](https://github.com/cytoscape/cytoscape-tutorials)\n",
    "* Active community on [cytoscape-helpdesk](https://groups.google.com/forum/#!forum/cytoscape-helpdesk) for any Cytoscape related questions and suggestions"
   ]
  }
 ],
 "metadata": {
  "kernelspec": {
   "display_name": "Python 2",
   "language": "python",
   "name": "python2"
  },
  "language_info": {
   "codemirror_mode": {
    "name": "ipython",
    "version": 2
   },
   "file_extension": ".py",
   "mimetype": "text/x-python",
   "name": "python",
   "nbconvert_exporter": "python",
   "pygments_lexer": "ipython2",
   "version": "2.7.10"
  }
 },
 "nbformat": 4,
 "nbformat_minor": 1
}
