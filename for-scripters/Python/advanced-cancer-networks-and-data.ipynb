{
 "cells": [
  {
   "cell_type": "markdown",
   "metadata": {},
   "source": [
    "### Import the required packages"
   ]
  },
  {
   "cell_type": "code",
   "execution_count": 1,
   "metadata": {
    "collapsed": false
   },
   "outputs": [],
   "source": [
    "import requests\n",
    "import sys\n",
    "import json\n",
    "import urllib2\n",
    "import pandas as pd\n",
    "import matplotlib\n",
    "import matplotlib.pyplot as plt\n",
    "import seaborn as sns\n",
    "%matplotlib inline"
   ]
  },
  {
   "cell_type": "markdown",
   "metadata": {},
   "source": [
    "### Define required functions"
   ]
  },
  {
   "cell_type": "code",
   "execution_count": 2,
   "metadata": {
    "collapsed": false,
    "scrolled": false
   },
   "outputs": [],
   "source": [
    "def CheckResponse(r):\n",
    "    status=str(r.status_code)\n",
    "    if status == \"200\":\n",
    "        #print \"Finished\"\n",
    "        sys.stdout.flush()\n",
    "    elif status == \"201\":\n",
    "        sys.stdout.flush()\n",
    "    else:\n",
    "        print r, r.status_code\n",
    "        sys.stdout.flush()\n",
    "        \n",
    "def checkCytoscapeVersion(host=\"localhost\",port=1234):\n",
    "    URL=\"http://\"+str(host)+\":\"+str(port)+\"/v1/version/\"\n",
    "    r = requests.get(url = URL)\n",
    "    r=json.loads(r.content)\n",
    "    for k in r.keys():\n",
    "        print k, r[k]\n",
    "        \n",
    "def cytoscape(namespace,command=\"\",PARAMS={},host=\"localhost\",port=1234,method=\"POST\",verbose=False):\n",
    "    \"\"\"\n",
    "    General function for interacting with Cytoscape API.\n",
    "    \n",
    "    :param namespace: namespace where the request should be executed. eg. \"string\"\n",
    "    :param commnand: command to execute. eg. \"protein query\"\n",
    "    :param PARAM: a dictionary with the parameters. Check your swagger normaly running on\n",
    "    http://localhost:1234/v1/swaggerUI/swagger-ui/index.html?url=http://localhost:1234/v1/commands/swagger.json\n",
    "    :param method: type of http call, ie. \"POST\" or \"GET\" or \"HELP\".\n",
    "    \n",
    "    :returns: For \"POST\" the data in the content's response. For \"GET\" None. \n",
    "    \n",
    "    eg.\n",
    "\n",
    "    cytoscape(\"G\",\"string\",\"pubmed query\",{\"pubmed\":\"p53 p21\",\"limit\":\"50\"})\n",
    "\n",
    "\n",
    "    \"\"\"     \n",
    "\n",
    "    if (method == \"GET\") or (method == \"G\"):\n",
    "        P=[]\n",
    "        for p in PARAMS.keys():\n",
    "            v=str(PARAMS[p])\n",
    "            v=v.replace(\" \",\"%20\")  \n",
    "            P.append(str(p)+\"=\"+str(PARAMS[p]))\n",
    "        P=\"&\".join(P)\n",
    "        URL=\"http://\"+str(host)+\":\"+str(port)+\"/v1/commands/\"+str(namespace)+\"/\"+str(command)+\"?\"+P\n",
    "        if verbose:\n",
    "            print \"'\"+URL+\"'\"\n",
    "            sys.stdout.flush()\n",
    "        r = requests.get(url = URL)\n",
    "        CheckResponse(r)\n",
    "        res=None\n",
    "    \n",
    "    elif (method == \"POST\") or (method == \"P\"):\n",
    "        URL=\"http://\"+str(host)+\":\"+str(port)+\"/v1/commands/\"+str(namespace)+\"/\"+str(command)\n",
    "        r = requests.post(url = URL, json = PARAMS)\n",
    "        CheckResponse(r)\n",
    "        res=r.content\n",
    "        if verbose:\n",
    "            print res\n",
    "        res=json.loads(res)\n",
    "        res=res[\"data\"]\n",
    "        \n",
    "    elif (method==\"HTML\") or (method == \"H\") or (method==\"HELP\"):\n",
    "        P=[]\n",
    "        for p in PARAMS.keys():\n",
    "            v=str(PARAMS[p])\n",
    "            v=v.replace(\" \",\"%20\")  \n",
    "            P.append(str(p)+\"=\"+str(PARAMS[p]))\n",
    "        P=\"&\".join(P)\n",
    "        URL=\"http://\"+str(host)+\":\"+str(port)+\"/v1/commands/\"+str(namespace)+\"/\"+str(command)+\"?\"+P\n",
    "        if verbose:\n",
    "            print \"'\"+URL+\"'\"\n",
    "            sys.stdout.flush()\n",
    "        response = urllib2.urlopen(URL)\n",
    "        res = response.read()\n",
    "        print res\n",
    "        sys.stdout.flush()\n",
    "    \n",
    "    return res\n",
    "\n",
    "#def HTML()\n",
    "\n",
    "def getTableColumns(table, columns, namespace = \"default\", network = \"current\", host=\"localhost\",port=1234,verbose=False):\n",
    "    if type(network) != int:\n",
    "        network=cytoscape(\"network\", \"get attribute\",\\\n",
    "                      {\"network\":network,\\\n",
    "                       \"namespace\":namespace,\\\n",
    "                       \"columnList\":\"SUID\"})\n",
    "        network=network[0][\"SUID\"]\n",
    "\n",
    "    \n",
    "    df=pd.DataFrame()\n",
    "    def target(column):\n",
    "        URL=\"http://\"+str(host)+\":\"+str(port)+\"/v1/networks/\"+str(network)+\"/tables/\"+namespace+table+\"/columns/\"+column  \n",
    "        if verbose:\n",
    "            print \"'\"+URL+\"'\"\n",
    "            sys.stdout.flush()\n",
    "        response = urllib2.urlopen(URL)\n",
    "        response = response.read()\n",
    "        colA=json.loads(response)\n",
    "\n",
    "        col=pd.DataFrame()    \n",
    "        colHeader=colA[\"name\"]\n",
    "        colValues=colA[\"values\"]\n",
    "        col[colHeader]=colValues\n",
    "        return col\n",
    "    \n",
    "    ncols=[\"name\"]\n",
    "    for c in columns:\n",
    "        ncols.append(c.replace(\" \",\"%20\") )\n",
    "    for c in ncols:\n",
    "        col=target(c)\n",
    "        df=pd.concat([df,col],axis=1)\n",
    "        \n",
    "    df.index=df[\"name\"].tolist()\n",
    "    df=df.drop([\"name\"],axis=1)\n",
    "    \n",
    "    return df\n",
    "\n",
    "def loadTableData(df, df_key='index',table=\"node\", \\\n",
    "                   table_key_column = \"name\",\n",
    "                   network=\"current\",\\\n",
    "                   namespace=\"default\",\\\n",
    "                   host=\"localhost\",port=1234,verbose=False):\n",
    "    \n",
    "    if type(network) != int:\n",
    "        networkID=cytoscape(\"network\", \"get attribute\",\\\n",
    "                      {\"network\":network,\\\n",
    "                       \"namespace\":namespace,\\\n",
    "                       \"columnList\":\"SUID\"})\n",
    "        networkname=cytoscape(\"network\", \"get attribute\",\\\n",
    "                      {\"network\":network,\\\n",
    "                       \"namespace\":namespace,\\\n",
    "                       \"columnList\":\"name\"})\n",
    "        \n",
    "        network=networkID[0][\"SUID\"]\n",
    "        networkname=networkname[0][\"name\"]\n",
    "        \n",
    "    tmp=df.copy()\n",
    "    if df_key!=\"index\":\n",
    "        tmp.index=tmp[df_key].tolist()\n",
    "        tmp=tmp.drop([df_key],axis=1)\n",
    "            \n",
    "    tablen=networkname+\" default node\"\n",
    "    \n",
    "    data=[]\n",
    "    \n",
    "    for c in tmp.columns.tolist():\n",
    "        for r in tmp.index.tolist():\n",
    "            cell={}\n",
    "            cell[str(table_key_column)]=str(r)\n",
    "            cell[str(c)]=str(tmp.ix[r,c])\n",
    "            data.append(cell)\n",
    "    \n",
    "    \n",
    "    upload={\"key\":table_key_column,\"dataKey\":table_key_column,\\\n",
    "            \"data\":data}\n",
    "    \n",
    "    \n",
    "    URL=\"http://\"+str(host)+\":\"+str(port)+\"/v1/networks/\"+str(network)+\"/tables/\"+namespace+table  \n",
    "    if verbose:\n",
    "        print \"'\"+URL+\"'\"\n",
    "        sys.stdout.flush()\n",
    "    r = requests.put(url = URL, json = upload)\n",
    "    if verbose:\n",
    "        print r\n",
    "    CheckResponse(r)\n",
    "    res=r.content\n",
    "    return res\n",
    "\n",
    "def visual_defaults(defaults_dic):\n",
    "    defaults=[]\n",
    "    for d in defaults_dic.keys():\n",
    "        dic={}\n",
    "        dic[\"visualProperty\"]=d\n",
    "        dic[\"value\"]=defaults_dic[d]\n",
    "        defaults.append(dic)\n",
    "    return defaults\n",
    "\n",
    "def create_styles(title,defaults,mappings,host=\"localhost\",port=1234,method=\"POST\"):\n",
    "    URL=\"http://\"+str(host)+\":\"+str(port)+\"/v1/styles\"\n",
    "    PARAMS={\"title\":title,\\\n",
    "           \"defaults\":defaults,\\\n",
    "           \"mappings\":mappings}\n",
    "    r = requests.post(url = URL, json = PARAMS)\n",
    "    CheckResponse(r)"
   ]
  },
  {
   "cell_type": "markdown",
   "metadata": {},
   "source": [
    "### Setup Cytoscape\n",
    "* Launch Cytoscape on your local machine. If you haven't already installed Cytoscape, then download the latest version from http://cytoscape.org.\n",
    "* Install the STRING app, if you haven't already: http://apps.cytoscape.org/apps/stringapp\n",
    "* Leave Cytoscape running in the background during the remainder of the tutorial.\n",
    "* Check cytoscape connection."
   ]
  },
  {
   "cell_type": "code",
   "execution_count": 3,
   "metadata": {
    "collapsed": false
   },
   "outputs": [
    {
     "name": "stdout",
     "output_type": "stream",
     "text": [
      "cytoscapeVersion 3.6.0\n",
      "apiVersion v1\n"
     ]
    }
   ],
   "source": [
    "checkCytoscapeVersion()"
   ]
  },
  {
   "cell_type": "markdown",
   "metadata": {},
   "source": [
    "cleanse the palette before importing new networks and styles"
   ]
  },
  {
   "cell_type": "code",
   "execution_count": 4,
   "metadata": {
    "collapsed": false
   },
   "outputs": [],
   "source": [
    "response=cytoscape(\"vizmap\", \"apply\",{\"styles\":\"default\"})"
   ]
  },
  {
   "cell_type": "markdown",
   "metadata": {},
   "source": [
    "################################################\n",
    "# Step 1: Getting Disease Networks\n",
    "################################################\n",
    "\n",
    "Use Cytoscape to query the STRING database for networks of genes associated with breast cancer and ovarian cancer.\n",
    "\n",
    "**If the STRING app is not installed, no error is reported, but your network  will be empty**\n",
    "\n",
    "### Query STRING database by disease to generate networks\n",
    "\n",
    "#### Breast cancer"
   ]
  },
  {
   "cell_type": "code",
   "execution_count": 5,
   "metadata": {
    "collapsed": false
   },
   "outputs": [],
   "source": [
    "response=cytoscape(\"string\", \"disease query\",\\\n",
    "                  {\"disease\":\"breast cancer\",\\\n",
    "                   \"cutoff\":\"0.9\",\\\n",
    "                   \"species\":\"Homo sapiens\",\\\n",
    "                   \"limit\":\"150\"})"
   ]
  },
  {
   "cell_type": "markdown",
   "metadata": {},
   "source": [
    "Here we are using Cytoscape's command line syntax, converting it to a CyREST url, and then making a PUT request. \n",
    "\n",
    "#### Ovarian cancer"
   ]
  },
  {
   "cell_type": "code",
   "execution_count": 6,
   "metadata": {
    "collapsed": false
   },
   "outputs": [],
   "source": [
    "response=cytoscape(\"string\", \"disease query\",\\\n",
    "                  {\"disease\":\"ovarian cancer\",\\\n",
    "                   \"cutoff\":\"0.9\",\\\n",
    "                   \"species\":\"Homo sapiens\",\\\n",
    "                   \"limit\":\"150\"})"
   ]
  },
  {
   "cell_type": "markdown",
   "metadata": {},
   "source": [
    "################################################\n",
    "# Step 2: Interacting with Cytoscape \n",
    "################################################\n",
    "\n",
    "Now that we've got a couple networks into Cytoscape, let's see what we can go with them from R...\n",
    "\n",
    "### Get list of networks "
   ]
  },
  {
   "cell_type": "code",
   "execution_count": 7,
   "metadata": {
    "collapsed": false
   },
   "outputs": [
    {
     "name": "stdout",
     "output_type": "stream",
     "text": [
      "[25138, 26232]\n"
     ]
    }
   ],
   "source": [
    "response=cytoscape(\"network\", \"list\")\n",
    "print response"
   ]
  },
  {
   "cell_type": "markdown",
   "metadata": {},
   "source": [
    "### Layout network"
   ]
  },
  {
   "cell_type": "code",
   "execution_count": 8,
   "metadata": {
    "collapsed": false
   },
   "outputs": [],
   "source": [
    "response=cytoscape(\"layout\", \"circular\")"
   ]
  },
  {
   "cell_type": "markdown",
   "metadata": {},
   "source": [
    "#### List of layout algorithms available"
   ]
  },
  {
   "cell_type": "code",
   "execution_count": 9,
   "metadata": {
    "collapsed": false
   },
   "outputs": [
    {
     "name": "stdout",
     "output_type": "stream",
     "text": [
      "Available commands for 'layout':\n",
      "  apply preferred\n",
      "  attribute-circle\n",
      "  attributes-layout\n",
      "  circular\n",
      "  copycat\n",
      "  cose\n",
      "  degree-circle\n",
      "  force-directed\n",
      "  force-directed-cl\n",
      "  fruchterman-rheingold\n",
      "  genemania-force-directed\n",
      "  get preferred\n",
      "  grid\n",
      "  hierarchical\n",
      "  isom\n",
      "  kamada-kawai\n",
      "  set preferred\n",
      "  stacked-node-layout\n",
      "\n"
     ]
    }
   ],
   "source": [
    "response=cytoscape(\"layout\",method=\"HELP\")"
   ]
  },
  {
   "cell_type": "markdown",
   "metadata": {},
   "source": [
    "#### Layout with parameters!"
   ]
  },
  {
   "cell_type": "code",
   "execution_count": 10,
   "metadata": {
    "collapsed": false
   },
   "outputs": [],
   "source": [
    "response=cytoscape(\"layout\", \"force-directed\",\\\n",
    "                  {\"defaultSpringCoefficient\":\".000004\",\\\n",
    "                   \"defaultSpringLength\":\"5\"})"
   ]
  },
  {
   "cell_type": "code",
   "execution_count": 11,
   "metadata": {
    "collapsed": false
   },
   "outputs": [
    {
     "name": "stdout",
     "output_type": "stream",
     "text": [
      "Available arguments for 'layout force-directed':\n",
      "  defaultEdgeWeight\n",
      "  defaultNodeMass\n",
      "  defaultSpringCoefficient\n",
      "  defaultSpringLength\n",
      "  EdgeAttribute\n",
      "  isDeterministic\n",
      "  maxWeightCutoff\n",
      "  minWeightCutoff\n",
      "  network\n",
      "  NodeAttribute\n",
      "  nodeList\n",
      "  numIterations\n",
      "  singlePartition\n",
      "  Type\n",
      "\n"
     ]
    }
   ],
   "source": [
    "response=cytoscape(\"layout\",\"force-directed\",method=\"HELP\")"
   ]
  },
  {
   "cell_type": "markdown",
   "metadata": {},
   "source": [
    "These *command* calls will allow you to interrogate the layouts and parameters available in your active Cytoscape session. This includes any layouts added by apps you've installed!\n",
    "\n",
    "### Get table data from network\n",
    "Now, let's look at the tablular data associated with our STRING networks..."
   ]
  },
  {
   "cell_type": "code",
   "execution_count": 12,
   "metadata": {
    "collapsed": false
   },
   "outputs": [
    {
     "name": "stdout",
     "output_type": "stream",
     "text": [
      "[u'SUID', u'shared name', u'name', u'selected', u'canonical name', u'database identifier', u'description', u'@id', u'namespace', u'node type', u'query term', u'sequence', u'species', u'STRING style', u'enhancedLabel Passthrough', u'canonical', u'compartment chloroplast', u'compartment cytoskeleton', u'compartment cytosol', u'compartment endoplasmic reticulum', u'compartment endosome', u'compartment extracellular', u'compartment golgi apparatus', u'compartment lysosome', u'compartment mitochondrion', u'compartment nucleus', u'compartment peroxisome', u'compartment plasma membrane', u'compartment vacuole', u'image', u'target development level', u'target family', u'tissue adrenal gland', u'tissue blood', u'tissue bone', u'tissue bone marrow', u'tissue eye', u'tissue gall bladder', u'tissue heart', u'tissue intestine', u'tissue kidney', u'tissue liver', u'tissue lung', u'tissue lymph node', u'tissue muscle', u'tissue nervous system', u'tissue pancreas', u'tissue saliva', u'tissue skin', u'tissue spleen', u'tissue stomach', u'tissue thyroid gland', u'tissue urine', u'disease score']\n"
     ]
    }
   ],
   "source": [
    "response=cytoscape(\"node\",\"list attributes\",\\\n",
    "                   {\"network\":\"current\",\\\n",
    "                   \"namespace\":\"default\"} )\n",
    "print response"
   ]
  },
  {
   "cell_type": "markdown",
   "metadata": {},
   "source": [
    "One of the great things about the STRING database is all the node and edge attriubtes they provide. Let's pull some of it into R to play with...\n",
    "\n",
    "#### Retrieve disease scores \n",
    "We can retrieve any set of columns from Cytoscape and store them as an R data frame."
   ]
  },
  {
   "cell_type": "code",
   "execution_count": 13,
   "metadata": {
    "collapsed": false
   },
   "outputs": [
    {
     "data": {
      "text/html": [
       "<div>\n",
       "<table border=\"1\" class=\"dataframe\">\n",
       "  <thead>\n",
       "    <tr style=\"text-align: right;\">\n",
       "      <th></th>\n",
       "      <th>disease score</th>\n",
       "    </tr>\n",
       "  </thead>\n",
       "  <tbody>\n",
       "    <tr>\n",
       "      <th>CDK12</th>\n",
       "      <td>1.637925</td>\n",
       "    </tr>\n",
       "    <tr>\n",
       "      <th>CTAG1B</th>\n",
       "      <td>1.708656</td>\n",
       "    </tr>\n",
       "    <tr>\n",
       "      <th>NBN</th>\n",
       "      <td>5.000000</td>\n",
       "    </tr>\n",
       "    <tr>\n",
       "      <th>PAX8</th>\n",
       "      <td>1.891827</td>\n",
       "    </tr>\n",
       "    <tr>\n",
       "      <th>STK11</th>\n",
       "      <td>5.000000</td>\n",
       "    </tr>\n",
       "    <tr>\n",
       "      <th>SNAI1</th>\n",
       "      <td>2.025321</td>\n",
       "    </tr>\n",
       "    <tr>\n",
       "      <th>EIF3A</th>\n",
       "      <td>1.745645</td>\n",
       "    </tr>\n",
       "    <tr>\n",
       "      <th>C10orf2</th>\n",
       "      <td>1.790888</td>\n",
       "    </tr>\n",
       "    <tr>\n",
       "      <th>MLH1</th>\n",
       "      <td>5.000000</td>\n",
       "    </tr>\n",
       "    <tr>\n",
       "      <th>DAB2</th>\n",
       "      <td>1.668835</td>\n",
       "    </tr>\n",
       "    <tr>\n",
       "      <th>MSH6</th>\n",
       "      <td>5.000000</td>\n",
       "    </tr>\n",
       "    <tr>\n",
       "      <th>CLEC3B</th>\n",
       "      <td>1.784040</td>\n",
       "    </tr>\n",
       "    <tr>\n",
       "      <th>KDR</th>\n",
       "      <td>1.775989</td>\n",
       "    </tr>\n",
       "    <tr>\n",
       "      <th>NME2</th>\n",
       "      <td>1.641608</td>\n",
       "    </tr>\n",
       "    <tr>\n",
       "      <th>NME1</th>\n",
       "      <td>1.835841</td>\n",
       "    </tr>\n",
       "    <tr>\n",
       "      <th>CDKN1A</th>\n",
       "      <td>1.737385</td>\n",
       "    </tr>\n",
       "    <tr>\n",
       "      <th>ANKLE1</th>\n",
       "      <td>3.128174</td>\n",
       "    </tr>\n",
       "    <tr>\n",
       "      <th>AKT1</th>\n",
       "      <td>5.000000</td>\n",
       "    </tr>\n",
       "    <tr>\n",
       "      <th>PALB2</th>\n",
       "      <td>5.000000</td>\n",
       "    </tr>\n",
       "    <tr>\n",
       "      <th>ARID1A</th>\n",
       "      <td>2.878271</td>\n",
       "    </tr>\n",
       "    <tr>\n",
       "      <th>FOLR1</th>\n",
       "      <td>2.240989</td>\n",
       "    </tr>\n",
       "    <tr>\n",
       "      <th>IL8</th>\n",
       "      <td>1.871320</td>\n",
       "    </tr>\n",
       "    <tr>\n",
       "      <th>DPH1</th>\n",
       "      <td>1.672107</td>\n",
       "    </tr>\n",
       "    <tr>\n",
       "      <th>HBA1</th>\n",
       "      <td>1.628620</td>\n",
       "    </tr>\n",
       "    <tr>\n",
       "      <th>MYC</th>\n",
       "      <td>2.048084</td>\n",
       "    </tr>\n",
       "    <tr>\n",
       "      <th>MSH2</th>\n",
       "      <td>5.000000</td>\n",
       "    </tr>\n",
       "    <tr>\n",
       "      <th>CCDC54</th>\n",
       "      <td>1.734617</td>\n",
       "    </tr>\n",
       "    <tr>\n",
       "      <th>RAD51C</th>\n",
       "      <td>5.000000</td>\n",
       "    </tr>\n",
       "    <tr>\n",
       "      <th>IL2</th>\n",
       "      <td>1.981722</td>\n",
       "    </tr>\n",
       "    <tr>\n",
       "      <th>SMUG1</th>\n",
       "      <td>2.072644</td>\n",
       "    </tr>\n",
       "    <tr>\n",
       "      <th>...</th>\n",
       "      <td>...</td>\n",
       "    </tr>\n",
       "    <tr>\n",
       "      <th>LPAR2</th>\n",
       "      <td>1.615485</td>\n",
       "    </tr>\n",
       "    <tr>\n",
       "      <th>F2</th>\n",
       "      <td>1.744678</td>\n",
       "    </tr>\n",
       "    <tr>\n",
       "      <th>EGF</th>\n",
       "      <td>1.960641</td>\n",
       "    </tr>\n",
       "    <tr>\n",
       "      <th>hsa-miR-200c-3p</th>\n",
       "      <td>1.679043</td>\n",
       "    </tr>\n",
       "    <tr>\n",
       "      <th>CDH1</th>\n",
       "      <td>5.000000</td>\n",
       "    </tr>\n",
       "    <tr>\n",
       "      <th>SNAI2</th>\n",
       "      <td>1.972968</td>\n",
       "    </tr>\n",
       "    <tr>\n",
       "      <th>CASP3</th>\n",
       "      <td>2.296278</td>\n",
       "    </tr>\n",
       "    <tr>\n",
       "      <th>ACSBG1</th>\n",
       "      <td>2.336571</td>\n",
       "    </tr>\n",
       "    <tr>\n",
       "      <th>MDM2</th>\n",
       "      <td>1.684987</td>\n",
       "    </tr>\n",
       "    <tr>\n",
       "      <th>BRCA2</th>\n",
       "      <td>5.000000</td>\n",
       "    </tr>\n",
       "    <tr>\n",
       "      <th>RAD51D</th>\n",
       "      <td>5.000000</td>\n",
       "    </tr>\n",
       "    <tr>\n",
       "      <th>ABCB1</th>\n",
       "      <td>1.929946</td>\n",
       "    </tr>\n",
       "    <tr>\n",
       "      <th>ENSG00000267618</th>\n",
       "      <td>2.174357</td>\n",
       "    </tr>\n",
       "    <tr>\n",
       "      <th>CSF2</th>\n",
       "      <td>1.656841</td>\n",
       "    </tr>\n",
       "    <tr>\n",
       "      <th>PMS2</th>\n",
       "      <td>5.000000</td>\n",
       "    </tr>\n",
       "    <tr>\n",
       "      <th>ERBB3</th>\n",
       "      <td>1.783118</td>\n",
       "    </tr>\n",
       "    <tr>\n",
       "      <th>IGF1R</th>\n",
       "      <td>1.617814</td>\n",
       "    </tr>\n",
       "    <tr>\n",
       "      <th>ANXA5</th>\n",
       "      <td>1.878906</td>\n",
       "    </tr>\n",
       "    <tr>\n",
       "      <th>AKT2</th>\n",
       "      <td>1.745328</td>\n",
       "    </tr>\n",
       "    <tr>\n",
       "      <th>MAPK3</th>\n",
       "      <td>1.732664</td>\n",
       "    </tr>\n",
       "    <tr>\n",
       "      <th>CHEK2</th>\n",
       "      <td>5.000000</td>\n",
       "    </tr>\n",
       "    <tr>\n",
       "      <th>CALB2</th>\n",
       "      <td>1.849376</td>\n",
       "    </tr>\n",
       "    <tr>\n",
       "      <th>XRCC2</th>\n",
       "      <td>2.694420</td>\n",
       "    </tr>\n",
       "    <tr>\n",
       "      <th>DGCR14</th>\n",
       "      <td>2.959737</td>\n",
       "    </tr>\n",
       "    <tr>\n",
       "      <th>CCNB1</th>\n",
       "      <td>1.665144</td>\n",
       "    </tr>\n",
       "    <tr>\n",
       "      <th>IL6</th>\n",
       "      <td>1.901240</td>\n",
       "    </tr>\n",
       "    <tr>\n",
       "      <th>BARD1</th>\n",
       "      <td>5.000000</td>\n",
       "    </tr>\n",
       "    <tr>\n",
       "      <th>KLK5</th>\n",
       "      <td>1.716860</td>\n",
       "    </tr>\n",
       "    <tr>\n",
       "      <th>SRC</th>\n",
       "      <td>1.852458</td>\n",
       "    </tr>\n",
       "    <tr>\n",
       "      <th>CD86</th>\n",
       "      <td>1.747818</td>\n",
       "    </tr>\n",
       "  </tbody>\n",
       "</table>\n",
       "<p>150 rows × 1 columns</p>\n",
       "</div>"
      ],
      "text/plain": [
       "                 disease score\n",
       "CDK12                 1.637925\n",
       "CTAG1B                1.708656\n",
       "NBN                   5.000000\n",
       "PAX8                  1.891827\n",
       "STK11                 5.000000\n",
       "SNAI1                 2.025321\n",
       "EIF3A                 1.745645\n",
       "C10orf2               1.790888\n",
       "MLH1                  5.000000\n",
       "DAB2                  1.668835\n",
       "MSH6                  5.000000\n",
       "CLEC3B                1.784040\n",
       "KDR                   1.775989\n",
       "NME2                  1.641608\n",
       "NME1                  1.835841\n",
       "CDKN1A                1.737385\n",
       "ANKLE1                3.128174\n",
       "AKT1                  5.000000\n",
       "PALB2                 5.000000\n",
       "ARID1A                2.878271\n",
       "FOLR1                 2.240989\n",
       "IL8                   1.871320\n",
       "DPH1                  1.672107\n",
       "HBA1                  1.628620\n",
       "MYC                   2.048084\n",
       "MSH2                  5.000000\n",
       "CCDC54                1.734617\n",
       "RAD51C                5.000000\n",
       "IL2                   1.981722\n",
       "SMUG1                 2.072644\n",
       "...                        ...\n",
       "LPAR2                 1.615485\n",
       "F2                    1.744678\n",
       "EGF                   1.960641\n",
       "hsa-miR-200c-3p       1.679043\n",
       "CDH1                  5.000000\n",
       "SNAI2                 1.972968\n",
       "CASP3                 2.296278\n",
       "ACSBG1                2.336571\n",
       "MDM2                  1.684987\n",
       "BRCA2                 5.000000\n",
       "RAD51D                5.000000\n",
       "ABCB1                 1.929946\n",
       "ENSG00000267618       2.174357\n",
       "CSF2                  1.656841\n",
       "PMS2                  5.000000\n",
       "ERBB3                 1.783118\n",
       "IGF1R                 1.617814\n",
       "ANXA5                 1.878906\n",
       "AKT2                  1.745328\n",
       "MAPK3                 1.732664\n",
       "CHEK2                 5.000000\n",
       "CALB2                 1.849376\n",
       "XRCC2                 2.694420\n",
       "DGCR14                2.959737\n",
       "CCNB1                 1.665144\n",
       "IL6                   1.901240\n",
       "BARD1                 5.000000\n",
       "KLK5                  1.716860\n",
       "SRC                   1.852458\n",
       "CD86                  1.747818\n",
       "\n",
       "[150 rows x 1 columns]"
      ]
     },
     "execution_count": 13,
     "metadata": {},
     "output_type": "execute_result"
    }
   ],
   "source": [
    "disease_score_table=getTableColumns('node',['disease score'])\n",
    "disease_score_table\n",
    "\n"
   ]
  },
  {
   "cell_type": "markdown",
   "metadata": {},
   "source": [
    "#### Plot distribution and pick threshold\n",
    "Now you can use python like you normally would explore the data."
   ]
  },
  {
   "cell_type": "code",
   "execution_count": 14,
   "metadata": {
    "collapsed": false
   },
   "outputs": [
    {
     "data": {
      "text/plain": [
       "<matplotlib.text.Text at 0x10b65d190>"
      ]
     },
     "execution_count": 14,
     "metadata": {},
     "output_type": "execute_result"
    },
    {
     "data": {
      "image/png": "[encoded data removed]",
      "text/plain": [
       "<matplotlib.figure.Figure at 0x103af82d0>"
      ]
     },
     "metadata": {},
     "output_type": "display_data"
    }
   ],
   "source": [
    "sns.set_style(\"white\")\n",
    "sns.kdeplot( disease_score_table[\"disease score\"] )\n",
    "plt.xlabel(\"disease score\")\n",
    "plt.ylabel(\"frequency\")"
   ]
  },
  {
   "cell_type": "markdown",
   "metadata": {},
   "source": [
    "### Generate subnetworks\n",
    "In order to reflect your exploration back onto the network, let's generate subnetworks...\n",
    "\n",
    "...from top quartile of 'disease score'"
   ]
  },
  {
   "cell_type": "code",
   "execution_count": 15,
   "metadata": {
    "collapsed": false
   },
   "outputs": [
    {
     "data": {
      "text/plain": [
       "[u'NBN',\n",
       " u'STK11',\n",
       " u'MLH1',\n",
       " u'MSH6',\n",
       " u'ANKLE1',\n",
       " u'AKT1',\n",
       " u'PALB2',\n",
       " u'ARID1A',\n",
       " u'MSH2',\n",
       " u'RAD51C',\n",
       " u'HOXD3',\n",
       " u'MLLT10',\n",
       " u'ERBB2',\n",
       " u'BRIP1',\n",
       " u'HNF1B',\n",
       " u'BNC2',\n",
       " u'PARK2',\n",
       " u'CTNNB1',\n",
       " u'MUC16',\n",
       " u'BRCA1',\n",
       " u'BABAM1',\n",
       " u'PARP1',\n",
       " u'OPCML',\n",
       " u'KRAS',\n",
       " u'FOXL2',\n",
       " u'PIK3CA',\n",
       " u'CHMP4C',\n",
       " u'TIPARP',\n",
       " u'TP53',\n",
       " u'PTEN',\n",
       " u'RAD50',\n",
       " u'CDH1',\n",
       " u'BRCA2',\n",
       " u'RAD51D',\n",
       " u'PMS2',\n",
       " u'CHEK2',\n",
       " u'DGCR14',\n",
       " u'BARD1']"
      ]
     },
     "execution_count": 15,
     "metadata": {},
     "output_type": "execute_result"
    }
   ],
   "source": [
    "top_quart=disease_score_table[[\"disease score\"]].quantile(0.75)[0]\n",
    "top_nodes=disease_score_table[disease_score_table[\"disease score\"]>top_quart].index.tolist()\n",
    "top_nodes"
   ]
  },
  {
   "cell_type": "code",
   "execution_count": 16,
   "metadata": {
    "collapsed": false
   },
   "outputs": [],
   "source": [
    "values=\"name:\"+\",\".join(top_nodes)\n",
    "response=cytoscape(\"network\",\"create\",\n",
    "                   {\"source\":\"current\",\\\n",
    "                    \"excludeEdges\":\"false\",\\\n",
    "                    \"nodeList\":values})\n",
    "response=cytoscape(\"network\",\"rename\",\\\n",
    "                   {\"name\":'top disease quartile'})"
   ]
  },
  {
   "cell_type": "markdown",
   "metadata": {},
   "source": [
    "...of connected nodes only"
   ]
  },
  {
   "cell_type": "code",
   "execution_count": 17,
   "metadata": {
    "collapsed": false
   },
   "outputs": [],
   "source": [
    "response=cytoscape(\"network\",\"create\",\n",
    "                   {\"source\":\"current\",\\\n",
    "                    \"edgeList\":\"all\",\\\n",
    "                    \"nodeList\":\"selected\"})"
   ]
  },
  {
   "cell_type": "markdown",
   "metadata": {},
   "source": [
    "...from first neighbors of top 3 genes, using the network connectivity together with the data to direct discovery."
   ]
  },
  {
   "cell_type": "code",
   "execution_count": 18,
   "metadata": {
    "collapsed": false
   },
   "outputs": [],
   "source": [
    "response=cytoscape(\"network\",\"set current\",\n",
    "                   {\"network\":\"String Network - ovarian cancer\"})"
   ]
  },
  {
   "cell_type": "code",
   "execution_count": 19,
   "metadata": {
    "collapsed": false
   },
   "outputs": [
    {
     "name": "stdout",
     "output_type": "stream",
     "text": [
      "[u'BRCA1', u'AKT1', u'OPCML']\n"
     ]
    }
   ],
   "source": [
    "top_nodes=disease_score_table.sort_values(by=[\"disease score\"],\\\n",
    "                                         ascending=False)\n",
    "top_nodes=top_nodes.index.tolist()[:3]\n",
    "print top_nodes"
   ]
  },
  {
   "cell_type": "code",
   "execution_count": 20,
   "metadata": {
    "collapsed": false
   },
   "outputs": [],
   "source": [
    "response=cytoscape(\"network\",\"select\",\n",
    "                   {\"nodeList\":\"name:\"+\",\".join(top_nodes)})"
   ]
  },
  {
   "cell_type": "code",
   "execution_count": 21,
   "metadata": {
    "collapsed": false
   },
   "outputs": [],
   "source": [
    "response=cytoscape(\"network\",\"select\",\n",
    "                   {\"firstNeighbors\":\"\",\\\n",
    "                    \"direction\":\"any\",\\\n",
    "                    \"network\":\"current\"})"
   ]
  },
  {
   "cell_type": "code",
   "execution_count": 22,
   "metadata": {
    "collapsed": false
   },
   "outputs": [],
   "source": [
    "response=cytoscape(\"network\",\"create\",\n",
    "                   {\"source\":\"current\",\\\n",
    "                    \"nodeList\":\"selected\"})"
   ]
  },
  {
   "cell_type": "code",
   "execution_count": 23,
   "metadata": {
    "collapsed": false
   },
   "outputs": [],
   "source": [
    "response=cytoscape(\"network\",\"rename\",\\\n",
    "                   {\"name\":'top disease neighbors'})"
   ]
  },
  {
   "cell_type": "markdown",
   "metadata": {},
   "source": [
    "...from diffusion algorithm starting with top 3 genes, using the network connectivity in a more subtle way than just first-degree neighbors."
   ]
  },
  {
   "cell_type": "code",
   "execution_count": 24,
   "metadata": {
    "collapsed": false
   },
   "outputs": [],
   "source": [
    "response=cytoscape(\"network\",\"set current\",\n",
    "                   {\"network\":\"String Network - ovarian cancer\"})\n",
    "response=cytoscape(\"network\",\"select\",\n",
    "                   {\"nodeList\":\"name:\"+\",\".join(top_nodes)})\n",
    "response=cytoscape(\"diffusion\",\"diffuse\")\n",
    "response=cytoscape(\"network\",\"create\",\n",
    "                   {\"source\":\"current\",\\\n",
    "                    \"nodeList\":\"selected\"})\n",
    "response=cytoscape(\"layout\", \"force-directed\")\n",
    "response=cytoscape(\"network\",\"rename\",\\\n",
    "                   {\"name\":'top disease diffusion'})"
   ]
  },
  {
   "cell_type": "markdown",
   "metadata": {},
   "source": [
    "################################################\n",
    "# Step 3: Visualizing data on networks\n",
    "################################################\n",
    "\n",
    "### Load datasets\n",
    "Downloaded TCGA data from https://portal.gdc.cancer.gov/ and preprocessed as R objects. Also available via each TCGA publication, e.g.:\n",
    " \n",
    "* Breast: https://tcga-data.nci.nih.gov/docs/publications/brca_2012/\n",
    "* Ovarian: https://tcga-data.nci.nih.gov/docs/publications/ov_2011/"
   ]
  },
  {
   "cell_type": "code",
   "execution_count": 25,
   "metadata": {
    "collapsed": true
   },
   "outputs": [],
   "source": [
    "brc_expr=pd.read_table(\"/Users/jboucas/brc.exp.tsv\")\n",
    "brc_mut=pd.read_table(\"/Users/jboucas/brc.mut.tsv\")"
   ]
  },
  {
   "cell_type": "markdown",
   "metadata": {},
   "source": [
    "### Breast Cancer Datset\n",
    "These datasets are similar to the data frames you normarlly encounter in R. For diversity, one using row.names to store corresponding gene names and the other uses the first column. Both are easy to import into Cytoscape."
   ]
  },
  {
   "cell_type": "code",
   "execution_count": 26,
   "metadata": {
    "collapsed": false
   },
   "outputs": [
    {
     "data": {
      "text/html": [
       "<div>\n",
       "<table border=\"1\" class=\"dataframe\">\n",
       "  <thead>\n",
       "    <tr style=\"text-align: right;\">\n",
       "      <th></th>\n",
       "      <th>expr.mean</th>\n",
       "    </tr>\n",
       "  </thead>\n",
       "  <tbody>\n",
       "    <tr>\n",
       "      <th>ELMO2</th>\n",
       "      <td>-0.000167</td>\n",
       "    </tr>\n",
       "    <tr>\n",
       "      <th>CREB3L1</th>\n",
       "      <td>-0.005408</td>\n",
       "    </tr>\n",
       "    <tr>\n",
       "      <th>RPS11</th>\n",
       "      <td>0.018381</td>\n",
       "    </tr>\n",
       "    <tr>\n",
       "      <th>PNMA1</th>\n",
       "      <td>-0.065037</td>\n",
       "    </tr>\n",
       "    <tr>\n",
       "      <th>MMP2</th>\n",
       "      <td>-0.074444</td>\n",
       "    </tr>\n",
       "  </tbody>\n",
       "</table>\n",
       "</div>"
      ],
      "text/plain": [
       "         expr.mean\n",
       "ELMO2    -0.000167\n",
       "CREB3L1  -0.005408\n",
       "RPS11     0.018381\n",
       "PNMA1    -0.065037\n",
       "MMP2     -0.074444"
      ]
     },
     "execution_count": 26,
     "metadata": {},
     "output_type": "execute_result"
    }
   ],
   "source": [
    "brc_expr.head()"
   ]
  },
  {
   "cell_type": "code",
   "execution_count": 27,
   "metadata": {
    "collapsed": false
   },
   "outputs": [
    {
     "data": {
      "text/html": [
       "<div>\n",
       "<table border=\"1\" class=\"dataframe\">\n",
       "  <thead>\n",
       "    <tr style=\"text-align: right;\">\n",
       "      <th></th>\n",
       "      <th>Hugo_Symbol</th>\n",
       "      <th>mut_count</th>\n",
       "      <th>missense_mut_count</th>\n",
       "    </tr>\n",
       "  </thead>\n",
       "  <tbody>\n",
       "    <tr>\n",
       "      <th>13</th>\n",
       "      <td>A1CF</td>\n",
       "      <td>2</td>\n",
       "      <td>2</td>\n",
       "    </tr>\n",
       "    <tr>\n",
       "      <th>14</th>\n",
       "      <td>A2BP1</td>\n",
       "      <td>3</td>\n",
       "      <td>3</td>\n",
       "    </tr>\n",
       "    <tr>\n",
       "      <th>15</th>\n",
       "      <td>A2M</td>\n",
       "      <td>3</td>\n",
       "      <td>2</td>\n",
       "    </tr>\n",
       "    <tr>\n",
       "      <th>16</th>\n",
       "      <td>A2ML1</td>\n",
       "      <td>4</td>\n",
       "      <td>4</td>\n",
       "    </tr>\n",
       "    <tr>\n",
       "      <th>17</th>\n",
       "      <td>A4GALT</td>\n",
       "      <td>1</td>\n",
       "      <td>0</td>\n",
       "    </tr>\n",
       "  </tbody>\n",
       "</table>\n",
       "</div>"
      ],
      "text/plain": [
       "   Hugo_Symbol  mut_count  missense_mut_count\n",
       "13        A1CF          2                   2\n",
       "14       A2BP1          3                   3\n",
       "15         A2M          3                   2\n",
       "16       A2ML1          4                   4\n",
       "17      A4GALT          1                   0"
      ]
     },
     "execution_count": 27,
     "metadata": {},
     "output_type": "execute_result"
    }
   ],
   "source": [
    "brc_mut.head()"
   ]
  },
  {
   "cell_type": "markdown",
   "metadata": {},
   "source": [
    "Let's return to the Breast Cancer network..."
   ]
  },
  {
   "cell_type": "code",
   "execution_count": 28,
   "metadata": {
    "collapsed": false
   },
   "outputs": [],
   "source": [
    "response=cytoscape(\"network\",\"set current\",\n",
    "                   {\"network\":\"String Network - breast cancer\"})\n",
    "response=cytoscape(\"layout\", \"force-directed\",\\\n",
    "                   {\"defaultSpringCoefficient\":\".000004\",\\\n",
    "                   \"defaultSpringLength\":\"5\"})"
   ]
  },
  {
   "cell_type": "markdown",
   "metadata": {},
   "source": [
    "...and use the helper function from r2cytoscape called *loadTableData*\n"
   ]
  },
  {
   "cell_type": "code",
   "execution_count": 29,
   "metadata": {
    "collapsed": false
   },
   "outputs": [],
   "source": [
    "response=loadTableData(brc_expr)\n",
    "response=loadTableData(brc_mut,df_key='Hugo_Symbol')"
   ]
  },
  {
   "cell_type": "markdown",
   "metadata": {},
   "source": [
    "#### Visual styles\n",
    "Let's create a new style to visualize our imported data\n",
    "...starting with the basics, we will specify a few defaults and obvious mappings in a custom style all our own."
   ]
  },
  {
   "cell_type": "code",
   "execution_count": 30,
   "metadata": {
    "collapsed": false
   },
   "outputs": [],
   "source": [
    "style_name = \"dataStyle\"\n",
    "\n",
    "defaults_dic={\"NODE_SHAPE\":\"ellipse\",\\\n",
    "               \"NODE_SIZE\":\"60\",\\\n",
    "               \"NODE_FILL_COLOR\":\"#AAAAAA\",\\\n",
    "               \"EDGE_TRANSPARENCY\":\"120\"}\n",
    "defaults=visual_defaults(defaults_dic)\n",
    "\n",
    "mappings_dic_A={\"mappingType\":\"passthrough\",\\\n",
    "                \"mappingColumn\":\"name\",\\\n",
    "                \"mappingColumnType\":\"String\",\\\n",
    "                \"visualProperty\":\"NODE_LABEL\"}\n",
    "mappings=[mappings_dic_A]\n",
    "\n",
    "create_styles(\"dataStyle\",defaults,mappings)"
   ]
  },
  {
   "cell_type": "code",
   "execution_count": 31,
   "metadata": {
    "collapsed": false
   },
   "outputs": [],
   "source": [
    "response=cytoscape(\"vizmap\", \"apply\", {\"styles\":\"dataStyle\"})"
   ]
  },
  {
   "cell_type": "markdown",
   "metadata": {},
   "source": [
    "Now let's update the style with a mapping for mean expression. The first step is to grab the column data from Cytoscape and pull out the min and max to define our data mapping range of values."
   ]
  },
  {
   "cell_type": "code",
   "execution_count": 32,
   "metadata": {
    "collapsed": false
   },
   "outputs": [],
   "source": [
    "brc_expr_network = getTableColumns('node',['expr.mean'])"
   ]
  },
  {
   "cell_type": "code",
   "execution_count": 33,
   "metadata": {
    "collapsed": false
   },
   "outputs": [
    {
     "name": "stdout",
     "output_type": "stream",
     "text": [
      "-0.00182769652651 0.512930822669\n"
     ]
    }
   ],
   "source": [
    "min_brc_expr = min(brc_expr_network.dropna()['expr.mean'].tolist())\n",
    "max_brc_expr = max(brc_expr_network.dropna()['expr.mean'].tolist())\n",
    "#data.values = c(min.brc.expr,0,max.brc.expr)\n",
    "print min_brc_expr, max_brc_expr"
   ]
  },
  {
   "cell_type": "code",
   "execution_count": 34,
   "metadata": {
    "collapsed": true
   },
   "outputs": [],
   "source": [
    "#https://matplotlib.org/users/colormaps.html"
   ]
  },
  {
   "cell_type": "code",
   "execution_count": null,
   "metadata": {
    "collapsed": true
   },
   "outputs": [],
   "source": []
  }
 ],
 "metadata": {
  "kernelspec": {
   "display_name": "Python 2",
   "language": "python",
   "name": "python2"
  },
  "language_info": {
   "codemirror_mode": {
    "name": "ipython",
    "version": 2
   },
   "file_extension": ".py",
   "mimetype": "text/x-python",
   "name": "python",
   "nbconvert_exporter": "python",
   "pygments_lexer": "ipython2",
   "version": "2.7.9"
  }
 },
 "nbformat": 4,
 "nbformat_minor": 0
}
