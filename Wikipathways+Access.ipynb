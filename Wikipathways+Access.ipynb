{
 "cells": [
  {
   "cell_type": "markdown",
   "metadata": {
    "collapsed": true
   },
   "source": [
    "This WAS an example to fetch KEGG pathways.  \n",
    "Here we convert it to Wikipathways access.\n",
    "\n",
    "Requirments\n",
    "In addition to basic cyREST setup, you need to install the following Cytoscpae App to run this workflow:\n",
    "Wikipathways app\n",
    "Input and Output\n",
    "Input - Disease name\n",
    "Output - Cytoscape session file containing all KEGG pathways known to be related to the disease.\n",
    " containing all KEGG pathways known to be related to the disease.\n"
   ]
  },
  {
   "cell_type": "code",
   "execution_count": 50,
   "metadata": {
    "collapsed": false
   },
   "outputs": [
    {
     "data": {
      "text/plain": [
       "<Response [200]>"
      ]
     },
     "execution_count": 50,
     "metadata": {},
     "output_type": "execute_result"
    }
   ],
   "source": [
    "import requests\n",
    "import json\n",
    "import pandas as pd\n",
    "import io\n",
    "from IPython.display import Image\n",
    "\n",
    "# Basic Setup\n",
    "PORT_NUMBER = 1234\n",
    "BASE = 'http://localhost:' + str(PORT_NUMBER) + '/v1/'\n",
    "WP_API_URL = 'http://webservice.wikipathways.org/'\n",
    "\n",
    "# Header for posting data to the server as JSON\n",
    "HEADERS = {'Content-Type: application/json'}\n",
    "\n",
    "# Delete all networks in current session\n",
    "requests.delete(BASE + 'session')\n"
   ]
  },
  {
   "cell_type": "code",
   "execution_count": 59,
   "metadata": {
    "collapsed": false
   },
   "outputs": [
    {
     "name": "stdout",
     "output_type": "stream",
     "text": [
      "RESPONSE: odict_keys(['@xmlns:ns1', '@xmlns:ns2', 'ns1:result'])\n"
     ]
    },
    {
     "ename": "TypeError",
     "evalue": "list indices must be integers or slices, not str",
     "output_type": "error",
     "traceback": [
      "\u001b[0;31m---------------------------------------------------------------------------\u001b[0m",
      "\u001b[0;31mTypeError\u001b[0m                                 Traceback (most recent call last)",
      "\u001b[0;32m<ipython-input-59-ef313cb5980e>\u001b[0m in \u001b[0;36m<module>\u001b[0;34m()\u001b[0m\n\u001b[1;32m     14\u001b[0m \u001b[0mresult\u001b[0m \u001b[0;34m=\u001b[0m \u001b[0mresponse\u001b[0m\u001b[0;34m[\u001b[0m\u001b[0;34m'ns1:result'\u001b[0m\u001b[0;34m]\u001b[0m\u001b[0;34m\u001b[0m\u001b[0m\n\u001b[1;32m     15\u001b[0m \u001b[0;34m\u001b[0m\u001b[0m\n\u001b[0;32m---> 16\u001b[0;31m \u001b[0mprint\u001b[0m \u001b[0;34m(\u001b[0m\u001b[0;34m'RESULT: '\u001b[0m \u001b[0;34m+\u001b[0m \u001b[0mstr\u001b[0m\u001b[0;34m(\u001b[0m\u001b[0mresult\u001b[0m\u001b[0;34m[\u001b[0m\u001b[0;34m'ns2:score'\u001b[0m\u001b[0;34m]\u001b[0m\u001b[0;34m)\u001b[0m\u001b[0;34m)\u001b[0m\u001b[0;34m\u001b[0m\u001b[0m\n\u001b[0m\u001b[1;32m     17\u001b[0m \u001b[0;34m\u001b[0m\u001b[0m\n\u001b[1;32m     18\u001b[0m \u001b[0;31m#for line in result.keys():\u001b[0m\u001b[0;34m\u001b[0m\u001b[0;34m\u001b[0m\u001b[0m\n",
      "\u001b[0;31mTypeError\u001b[0m: list indices must be integers or slices, not str"
     ]
    }
   ],
   "source": [
    "import xmltodict\n",
    "#import untangle\n",
    "\n",
    "# Find information about cancer from Wikipathways.\n",
    "query = 'cancer'\n",
    "\n",
    "res = requests.get(WP_API_URL + 'findPathwaysByText?query=' + query)\n",
    "pathway_list = res.content.decode('utf8')\n",
    "doc = xmltodict.parse(pathway_list)\n",
    "\n",
    "response = doc['ns1:findPathwaysByTextResponse']\n",
    "print ('RESPONSE: ' + str(response.keys()))\n",
    "\n",
    "result = response['ns1:result']\n",
    "\n",
    "print ('RESULT: ' + str(result['ns2:score']))\n",
    "\n",
    "#for line in result.keys():\n",
    "#   print (line)\n",
    "\n",
    "\n",
    "#print (doc[ns1::result][ns2:score])\n",
    "#disease_df = pd.read_csv(io.StringIO(pathway_list), delimiter='\\t',  header=None, names=['id', 'name'])\n",
    "#disease_df"
   ]
  },
  {
   "cell_type": "markdown",
   "metadata": {},
   "source": [
    "## Piping the result to KEGG Pathway database to get list of related pathways"
   ]
  },
  {
   "cell_type": "code",
   "execution_count": 7,
   "metadata": {
    "collapsed": true
   },
   "outputs": [],
   "source": [
    "disease_ids = disease_df['id']\n",
    "disease_urls = disease_ids.apply(lambda x: KEGG_API_URL + 'get/' + x)\n",
    "\n",
    "def disease_parser(entry):\n",
    "    lines = entry.split('\\n')\n",
    "    data = {}\n",
    "    \n",
    "    last_key = None\n",
    "    for line in lines:\n",
    "        if '///' in line:\n",
    "            return data\n",
    "        \n",
    "        parts = line.split(' ')\n",
    "        if parts[0] is not None and len(parts[0]) != 0:\n",
    "            last_key = parts[0]\n",
    "            data[parts[0]] = line.replace(parts[0], '').strip()\n",
    "        else:\n",
    "            last_val = data[last_key]\n",
    "            data[last_key] = last_val + '|' + line.strip()\n",
    "    return data   \n",
    "\n",
    "result = []\n",
    "for url in disease_urls:\n",
    "        res = requests.get(url)\n",
    "        rows = disease_parser(res.content.decode('utf8'))\n",
    "        result.append(rows)"
   ]
  },
  {
   "cell_type": "code",
   "execution_count": 9,
   "metadata": {
    "collapsed": true
   },
   "outputs": [],
   "source": [
    "disease_df = pd.DataFrame(result)\n",
    "pathways = disease_df['PATHWAY'].dropna().unique()\n",
    "\n",
    "p_urls = []\n",
    "for pathway in pathways:\n",
    "    entries = pathway.split('|')\n",
    "    for en in entries:\n",
    "        url = KEGG_API_URL + 'get/' + en.split(' ')[0].split('(')[0] + '/kgml'\n",
    "        p_urls.append(url)"
   ]
  },
  {
   "cell_type": "code",
   "execution_count": 8,
   "metadata": {
    "collapsed": false
   },
   "outputs": [
    {
     "ename": "NameError",
     "evalue": "name 'p_urls' is not defined",
     "output_type": "error",
     "traceback": [
      "\u001b[0;31m---------------------------------------------------------------------------\u001b[0m",
      "\u001b[0;31mNameError\u001b[0m                                 Traceback (most recent call last)",
      "\u001b[0;32m<ipython-input-8-e6629357f0ce>\u001b[0m in \u001b[0;36m<module>\u001b[0;34m()\u001b[0m\n\u001b[1;32m      3\u001b[0m     \u001b[0;32mreturn\u001b[0m \u001b[0mserver_res\u001b[0m\u001b[0;34m.\u001b[0m\u001b[0mjson\u001b[0m\u001b[0;34m(\u001b[0m\u001b[0;34m)\u001b[0m\u001b[0;34m\u001b[0m\u001b[0m\n\u001b[1;32m      4\u001b[0m \u001b[0;34m\u001b[0m\u001b[0m\n\u001b[0;32m----> 5\u001b[0;31m \u001b[0murl_list\u001b[0m \u001b[0;34m=\u001b[0m \u001b[0mlist\u001b[0m\u001b[0;34m(\u001b[0m\u001b[0mset\u001b[0m\u001b[0;34m(\u001b[0m\u001b[0mp_urls\u001b[0m\u001b[0;34m)\u001b[0m\u001b[0;34m)\u001b[0m\u001b[0;34m\u001b[0m\u001b[0m\n\u001b[0m\u001b[1;32m      6\u001b[0m \u001b[0mpathway_suids\u001b[0m \u001b[0;34m=\u001b[0m \u001b[0mcreate_from_list\u001b[0m\u001b[0;34m(\u001b[0m\u001b[0murl_list\u001b[0m\u001b[0;34m)\u001b[0m\u001b[0;34m\u001b[0m\u001b[0m\n",
      "\u001b[0;31mNameError\u001b[0m: name 'p_urls' is not defined"
     ]
    }
   ],
   "source": [
    "def create_from_list(network_list):\n",
    "    server_res = requests.post(BASE + 'networks?source=url&collection=' + query, data=json.dumps(network_list), headers=HEADERS)\n",
    "    return server_res.json()\n",
    "\n",
    "url_list = list(set(p_urls))\n",
    "pathway_suids = create_from_list(url_list)"
   ]
  },
  {
   "cell_type": "code",
   "execution_count": null,
   "metadata": {
    "collapsed": true
   },
   "outputs": [],
   "source": []
  }
 ],
 "metadata": {
  "kernelspec": {
   "display_name": "Python [conda root]",
   "language": "python",
   "name": "conda-root-py"
  },
  "language_info": {
   "codemirror_mode": {
    "name": "ipython",
    "version": 3
   },
   "file_extension": ".py",
   "mimetype": "text/x-python",
   "name": "python",
   "nbconvert_exporter": "python",
   "pygments_lexer": "ipython3",
   "version": "3.5.2"
  }
 },
 "nbformat": 4,
 "nbformat_minor": 1
}
